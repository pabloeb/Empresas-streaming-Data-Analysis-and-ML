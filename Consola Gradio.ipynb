{
 "cells": [
  {
   "cell_type": "code",
   "execution_count": 6,
   "metadata": {},
   "outputs": [],
   "source": [
    "import pandas as pd\n",
    "import numpy as np\n",
    "from sklearn.preprocessing import LabelEncoder\n",
    "from surprise.model_selection import train_test_split, GridSearchCV,train_test_split\n",
    "from surprise import Dataset, Reader, SVD,KNNWithMeans,NMF\n",
    "from surprise.prediction_algorithms.matrix_factorization import SVD\n",
    "from surprise import accuracy\n",
    "\n",
    "from joblib import load \n",
    "import requests"
   ]
  },
  {
   "cell_type": "code",
   "execution_count": 7,
   "metadata": {},
   "outputs": [],
   "source": [
    "# Cargar el objeto SVD  desde el archivo \"modelo_svd.joblib\"\n",
    "# la función load() no admite cargar el archivo directamente, hay que descargarlo con la librería requests\n",
    "url = 'https://www.dropbox.com/s/2qxfu6gjbz8bx0m/modelo_svd.joblib?dl=1'\n",
    "\n",
    "# Descargar el archivo desde la URL de Dropbox\n",
    "response = requests.get(url)\n",
    "response.raise_for_status()\n",
    "\n",
    "# Guardar el archivo descargado localmente\n",
    "with open('modelo_svd.joblib', 'wb') as f:\n",
    "    f.write(response.content)\n",
    "\n",
    "# Cargar el objeto GridSearchCV desde el archivo local\n",
    "modelo_SVD = load('modelo_svd.joblib')"
   ]
  },
  {
   "cell_type": "code",
   "execution_count": 8,
   "metadata": {},
   "outputs": [
    {
     "name": "stdout",
     "output_type": "stream",
     "text": [
      "user: 100        item: 1532       r_ui = None   est = 3.61   {'was_impossible': False}\n"
     ]
    }
   ],
   "source": [
    "userid = 100\n",
    "movieid = 1532\n",
    "predicted_rating = modelo_SVD.predict(userid, movieid)\n",
    "\n",
    "print(predicted_rating)"
   ]
  },
  {
   "cell_type": "code",
   "execution_count": 9,
   "metadata": {},
   "outputs": [
    {
     "name": "stdout",
     "output_type": "stream",
     "text": [
      "[100, 1532, None, 3.6092329640238163, {'was_impossible': False}]\n"
     ]
    }
   ],
   "source": [
    "pr= list(predicted_rating)\n",
    "print(pr)"
   ]
  },
  {
   "cell_type": "code",
   "execution_count": 10,
   "metadata": {},
   "outputs": [
    {
     "name": "stderr",
     "output_type": "stream",
     "text": [
      "c:\\Users\\DELL\\AppData\\Local\\Programs\\Python\\Python310\\lib\\site-packages\\gradio\\inputs.py:59: UserWarning: Usage of gradio.inputs is deprecated, and will not be supported in the future, please import your component from gradio.components\n",
      "  warnings.warn(\n",
      "c:\\Users\\DELL\\AppData\\Local\\Programs\\Python\\Python310\\lib\\site-packages\\gradio\\deprecation.py:40: UserWarning: `optional` parameter is deprecated, and it has no effect\n",
      "  warnings.warn(value)\n",
      "c:\\Users\\DELL\\AppData\\Local\\Programs\\Python\\Python310\\lib\\site-packages\\gradio\\outputs.py:197: UserWarning: Usage of gradio.outputs is deprecated, and will not be supported in the future, please import your components from gradio.components\n",
      "  warnings.warn(\n",
      "c:\\Users\\DELL\\AppData\\Local\\Programs\\Python\\Python310\\lib\\site-packages\\gradio\\deprecation.py:40: UserWarning: The 'type' parameter has been deprecated. Use the Number component instead.\n",
      "  warnings.warn(value)\n"
     ]
    },
    {
     "name": "stdout",
     "output_type": "stream",
     "text": [
      "Running on local URL:  http://127.0.0.1:7860\n",
      "Running on public URL: https://a150d7aa0dedd4a4e0.gradio.live\n",
      "\n",
      "This share link expires in 72 hours. For free permanent hosting and GPU upgrades (NEW!), check out Spaces: https://huggingface.co/spaces\n"
     ]
    },
    {
     "data": {
      "text/html": [
       "<div><iframe src=\"https://a150d7aa0dedd4a4e0.gradio.live\" width=\"100%\" height=\"500\" allow=\"autoplay; camera; microphone; clipboard-read; clipboard-write;\" frameborder=\"0\" allowfullscreen></iframe></div>"
      ],
      "text/plain": [
       "<IPython.core.display.HTML object>"
      ]
     },
     "metadata": {},
     "output_type": "display_data"
    },
    {
     "data": {
      "text/plain": []
     },
     "execution_count": 10,
     "metadata": {},
     "output_type": "execute_result"
    }
   ],
   "source": [
    "\n",
    "import gradio as gr\n",
    "\n",
    "def prediccion_valoracion(userid, movieid):\n",
    "    predicted_rating = modelo_SVD.predict(userid, movieid)\n",
    "    puntuacion = list(predicted_rating)\n",
    "    puntuacion = puntuacion[3] \n",
    "    if puntuacion > 3.5:\n",
    "        return round(puntuacion,2), \"Se recomienda la película según sus preferencias\"\n",
    "    else:\n",
    "        return round(puntuacion,2), \"No recomienda la película según sus preferencias\"\n",
    "\n",
    "input1 = gr.inputs.Number(label=\"User ID\")\n",
    "input2 = gr.inputs.Number(label=\"Movie ID\")\n",
    "output1 = gr.outputs.Label(label=\"Predicción de Puntuación\")\n",
    "output2 = gr.outputs.Label(label=\"Recomendación\")\n",
    "\n",
    "gr.Interface(fn=prediccion_valoracion, inputs=[input1, input2], outputs=[output1,output2], title=\"Recomendación de películas y series a usuarios de plataformas de streaming\").launch(share=True)"
   ]
  }
 ],
 "metadata": {
  "kernelspec": {
   "display_name": "Python 3",
   "language": "python",
   "name": "python3"
  },
  "language_info": {
   "codemirror_mode": {
    "name": "ipython",
    "version": 3
   },
   "file_extension": ".py",
   "mimetype": "text/x-python",
   "name": "python",
   "nbconvert_exporter": "python",
   "pygments_lexer": "ipython3",
   "version": "3.10.9"
  },
  "orig_nbformat": 4
 },
 "nbformat": 4,
 "nbformat_minor": 2
}
