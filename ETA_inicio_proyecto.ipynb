{
 "cells": [
  {
   "cell_type": "code",
   "execution_count": 2,
   "metadata": {},
   "outputs": [],
   "source": [
    "import pandas as pd\n",
    "import numpy as np"
   ]
  },
  {
   "attachments": {},
   "cell_type": "markdown",
   "metadata": {},
   "source": [
    "- Se observa la estructura de los dataframes entregados, para entender cuál de toda la información proporcionada será de utilidad y cómo trabajar sobre ella  "
   ]
  },
  {
   "attachments": {},
   "cell_type": "markdown",
   "metadata": {},
   "source": [
    "### REVISION DE ARCHIVOS DE USUARIOS DE PLATAFORMAS DE STREAMING"
   ]
  },
  {
   "cell_type": "code",
   "execution_count": 12,
   "metadata": {},
   "outputs": [],
   "source": [
    "df1 = pd.read_csv('https://www.dropbox.com/s/zt45v3nu8at6m3e/1.csv?dl=1')\n",
    "df2 = pd.read_csv(\"https://www.dropbox.com/s/k8gh9c1ua0ygewi/2.csv?dl=1\")\n",
    "df3 = pd.read_csv(\"https://www.dropbox.com/s/0bks9wi2729xa3h/3.csv?dl=1\")\n",
    "df4 = pd.read_csv(\"https://www.dropbox.com/s/0swiovnnjkjehcx/4.csv?dl=1\")\n",
    "df5 = pd.read_csv(\"https://www.dropbox.com/s/5nwo86grup24u0x/5.csv?dl=1\")\n",
    "df6 = pd.read_csv(\"https://www.dropbox.com/s/s1fu3ks2u7rxl9s/6.csv?dl=1\")\n",
    "df7 = pd.read_csv(\"https://www.dropbox.com/s/oalmze44nrc2fvi/7.csv?dl=1\")\n",
    "df8 = pd.read_csv(\"https://www.dropbox.com/s/oars9mbtmuawrfl/8.csv?dl=1\")\n"
   ]
  },
  {
   "cell_type": "code",
   "execution_count": 13,
   "metadata": {},
   "outputs": [
    {
     "name": "stdout",
     "output_type": "stream",
     "text": [
      "<class 'pandas.core.frame.DataFrame'>\n",
      "RangeIndex: 1500000 entries, 0 to 1499999\n",
      "Data columns (total 4 columns):\n",
      " #   Column     Non-Null Count    Dtype  \n",
      "---  ------     --------------    -----  \n",
      " 0   userId     1500000 non-null  int64  \n",
      " 1   rating     1500000 non-null  float64\n",
      " 2   timestamp  1500000 non-null  int64  \n",
      " 3   movieId    1500000 non-null  object \n",
      "dtypes: float64(1), int64(2), object(1)\n",
      "memory usage: 45.8+ MB\n"
     ]
    }
   ],
   "source": [
    "df1.info()\n"
   ]
  },
  {
   "cell_type": "code",
   "execution_count": 130,
   "metadata": {},
   "outputs": [
    {
     "name": "stdout",
     "output_type": "stream",
     "text": [
      "<class 'pandas.core.frame.DataFrame'>\n",
      "RangeIndex: 1500000 entries, 0 to 1499999\n",
      "Data columns (total 4 columns):\n",
      " #   Column     Non-Null Count    Dtype  \n",
      "---  ------     --------------    -----  \n",
      " 0   userId     1500000 non-null  int64  \n",
      " 1   rating     1500000 non-null  float64\n",
      " 2   timestamp  1500000 non-null  int64  \n",
      " 3   movieId    1500000 non-null  object \n",
      "dtypes: float64(1), int64(2), object(1)\n",
      "memory usage: 45.8+ MB\n"
     ]
    }
   ],
   "source": [
    "df2.info()"
   ]
  },
  {
   "cell_type": "code",
   "execution_count": 131,
   "metadata": {},
   "outputs": [
    {
     "name": "stdout",
     "output_type": "stream",
     "text": [
      "<class 'pandas.core.frame.DataFrame'>\n",
      "RangeIndex: 1500000 entries, 0 to 1499999\n",
      "Data columns (total 4 columns):\n",
      " #   Column     Non-Null Count    Dtype  \n",
      "---  ------     --------------    -----  \n",
      " 0   userId     1500000 non-null  int64  \n",
      " 1   rating     1500000 non-null  float64\n",
      " 2   timestamp  1500000 non-null  int64  \n",
      " 3   movieId    1500000 non-null  object \n",
      "dtypes: float64(1), int64(2), object(1)\n",
      "memory usage: 45.8+ MB\n"
     ]
    }
   ],
   "source": [
    "df3.info()"
   ]
  },
  {
   "cell_type": "code",
   "execution_count": 132,
   "metadata": {},
   "outputs": [
    {
     "name": "stdout",
     "output_type": "stream",
     "text": [
      "<class 'pandas.core.frame.DataFrame'>\n",
      "RangeIndex: 1500000 entries, 0 to 1499999\n",
      "Data columns (total 4 columns):\n",
      " #   Column     Non-Null Count    Dtype  \n",
      "---  ------     --------------    -----  \n",
      " 0   userId     1500000 non-null  int64  \n",
      " 1   rating     1500000 non-null  float64\n",
      " 2   timestamp  1500000 non-null  int64  \n",
      " 3   movieId    1500000 non-null  object \n",
      "dtypes: float64(1), int64(2), object(1)\n",
      "memory usage: 45.8+ MB\n"
     ]
    }
   ],
   "source": [
    "df4.info()"
   ]
  },
  {
   "cell_type": "code",
   "execution_count": 133,
   "metadata": {},
   "outputs": [
    {
     "name": "stdout",
     "output_type": "stream",
     "text": [
      "<class 'pandas.core.frame.DataFrame'>\n",
      "RangeIndex: 1500000 entries, 0 to 1499999\n",
      "Data columns (total 4 columns):\n",
      " #   Column     Non-Null Count    Dtype  \n",
      "---  ------     --------------    -----  \n",
      " 0   userId     1500000 non-null  int64  \n",
      " 1   rating     1500000 non-null  float64\n",
      " 2   timestamp  1500000 non-null  int64  \n",
      " 3   movieId    1500000 non-null  object \n",
      "dtypes: float64(1), int64(2), object(1)\n",
      "memory usage: 45.8+ MB\n"
     ]
    }
   ],
   "source": [
    "df5.info()"
   ]
  },
  {
   "cell_type": "code",
   "execution_count": 134,
   "metadata": {},
   "outputs": [
    {
     "name": "stdout",
     "output_type": "stream",
     "text": [
      "<class 'pandas.core.frame.DataFrame'>\n",
      "RangeIndex: 1500000 entries, 0 to 1499999\n",
      "Data columns (total 4 columns):\n",
      " #   Column     Non-Null Count    Dtype  \n",
      "---  ------     --------------    -----  \n",
      " 0   userId     1500000 non-null  int64  \n",
      " 1   rating     1500000 non-null  float64\n",
      " 2   timestamp  1500000 non-null  int64  \n",
      " 3   movieId    1500000 non-null  object \n",
      "dtypes: float64(1), int64(2), object(1)\n",
      "memory usage: 45.8+ MB\n"
     ]
    }
   ],
   "source": [
    "df6.info()"
   ]
  },
  {
   "cell_type": "code",
   "execution_count": 135,
   "metadata": {},
   "outputs": [
    {
     "name": "stdout",
     "output_type": "stream",
     "text": [
      "<class 'pandas.core.frame.DataFrame'>\n",
      "RangeIndex: 524289 entries, 0 to 524288\n",
      "Data columns (total 4 columns):\n",
      " #   Column     Non-Null Count   Dtype  \n",
      "---  ------     --------------   -----  \n",
      " 0   userId     524289 non-null  int64  \n",
      " 1   rating     524289 non-null  float64\n",
      " 2   timestamp  524289 non-null  int64  \n",
      " 3   movieId    524289 non-null  object \n",
      "dtypes: float64(1), int64(2), object(1)\n",
      "memory usage: 16.0+ MB\n"
     ]
    }
   ],
   "source": [
    "df7.info()"
   ]
  },
  {
   "cell_type": "code",
   "execution_count": 136,
   "metadata": {},
   "outputs": [
    {
     "name": "stdout",
     "output_type": "stream",
     "text": [
      "<class 'pandas.core.frame.DataFrame'>\n",
      "RangeIndex: 1500000 entries, 0 to 1499999\n",
      "Data columns (total 4 columns):\n",
      " #   Column     Non-Null Count    Dtype  \n",
      "---  ------     --------------    -----  \n",
      " 0   userId     1500000 non-null  int64  \n",
      " 1   rating     1500000 non-null  float64\n",
      " 2   timestamp  1500000 non-null  int64  \n",
      " 3   movieId    1500000 non-null  object \n",
      "dtypes: float64(1), int64(2), object(1)\n",
      "memory usage: 45.8+ MB\n"
     ]
    }
   ],
   "source": [
    "df8.info()"
   ]
  },
  {
   "attachments": {},
   "cell_type": "markdown",
   "metadata": {},
   "source": [
    "* Los archivos de usuario en principio se van a usar para extraer el valor de scoring de las películas.Se ven completos y con el tipo de dato correcto."
   ]
  },
  {
   "attachments": {},
   "cell_type": "markdown",
   "metadata": {},
   "source": [
    "### REVISION DE LOS ARCHIVOS DE PELICULA:"
   ]
  },
  {
   "cell_type": "code",
   "execution_count": 14,
   "metadata": {},
   "outputs": [
    {
     "data": {
      "text/html": [
       "<div>\n",
       "<style scoped>\n",
       "    .dataframe tbody tr th:only-of-type {\n",
       "        vertical-align: middle;\n",
       "    }\n",
       "\n",
       "    .dataframe tbody tr th {\n",
       "        vertical-align: top;\n",
       "    }\n",
       "\n",
       "    .dataframe thead th {\n",
       "        text-align: right;\n",
       "    }\n",
       "</style>\n",
       "<table border=\"1\" class=\"dataframe\">\n",
       "  <thead>\n",
       "    <tr style=\"text-align: right;\">\n",
       "      <th></th>\n",
       "      <th>show_id</th>\n",
       "      <th>type</th>\n",
       "      <th>title</th>\n",
       "      <th>director</th>\n",
       "      <th>cast</th>\n",
       "      <th>country</th>\n",
       "      <th>date_added</th>\n",
       "      <th>release_year</th>\n",
       "      <th>rating</th>\n",
       "      <th>duration</th>\n",
       "      <th>listed_in</th>\n",
       "      <th>description</th>\n",
       "    </tr>\n",
       "  </thead>\n",
       "  <tbody>\n",
       "    <tr>\n",
       "      <th>0</th>\n",
       "      <td>s1</td>\n",
       "      <td>Movie</td>\n",
       "      <td>The Grand Seduction</td>\n",
       "      <td>Don McKellar</td>\n",
       "      <td>Brendan Gleeson, Taylor Kitsch, Gordon Pinsent</td>\n",
       "      <td>Canada</td>\n",
       "      <td>March 30, 2021</td>\n",
       "      <td>2014</td>\n",
       "      <td>NaN</td>\n",
       "      <td>113 min</td>\n",
       "      <td>Comedy, Drama</td>\n",
       "      <td>A small fishing village must procure a local d...</td>\n",
       "    </tr>\n",
       "  </tbody>\n",
       "</table>\n",
       "</div>"
      ],
      "text/plain": [
       "  show_id   type                title      director  \\\n",
       "0      s1  Movie  The Grand Seduction  Don McKellar   \n",
       "\n",
       "                                             cast country      date_added  \\\n",
       "0  Brendan Gleeson, Taylor Kitsch, Gordon Pinsent  Canada  March 30, 2021   \n",
       "\n",
       "   release_year rating duration      listed_in  \\\n",
       "0          2014    NaN  113 min  Comedy, Drama   \n",
       "\n",
       "                                         description  \n",
       "0  A small fishing village must procure a local d...  "
      ]
     },
     "execution_count": 14,
     "metadata": {},
     "output_type": "execute_result"
    }
   ],
   "source": [
    "#Archivo de BD de Amazon Prime\n",
    "dfamp = pd.read_csv(\"https://www.dropbox.com/s/jlx1pd0dgpxj1wc/amazon_prime_titles.csv?dl=1\")\n",
    "dfamp.head(1)              "
   ]
  },
  {
   "attachments": {},
   "cell_type": "markdown",
   "metadata": {},
   "source": [
    "`A) Transformaciones sobre el dataframe de Amazon:`  "
   ]
  },
  {
   "cell_type": "code",
   "execution_count": 138,
   "metadata": {},
   "outputs": [
    {
     "name": "stdout",
     "output_type": "stream",
     "text": [
      "<class 'pandas.core.frame.DataFrame'>\n",
      "RangeIndex: 9668 entries, 0 to 9667\n",
      "Data columns (total 12 columns):\n",
      " #   Column        Non-Null Count  Dtype \n",
      "---  ------        --------------  ----- \n",
      " 0   show_id       9668 non-null   object\n",
      " 1   type          9668 non-null   object\n",
      " 2   title         9668 non-null   object\n",
      " 3   director      7586 non-null   object\n",
      " 4   cast          8435 non-null   object\n",
      " 5   country       672 non-null    object\n",
      " 6   date_added    155 non-null    object\n",
      " 7   release_year  9668 non-null   int64 \n",
      " 8   rating        9331 non-null   object\n",
      " 9   duration      9668 non-null   object\n",
      " 10  listed_in     9668 non-null   object\n",
      " 11  description   9668 non-null   object\n",
      "dtypes: int64(1), object(11)\n",
      "memory usage: 906.5+ KB\n"
     ]
    }
   ],
   "source": [
    "dfamp.info()"
   ]
  },
  {
   "cell_type": "code",
   "execution_count": 139,
   "metadata": {},
   "outputs": [
    {
     "data": {
      "text/plain": [
       "False    9668\n",
       "dtype: int64"
      ]
     },
     "execution_count": 139,
     "metadata": {},
     "output_type": "execute_result"
    }
   ],
   "source": [
    "#duplicados\n",
    "dfamp.duplicated().value_counts()\n",
    " #sin duplicados\n",
    "\n"
   ]
  },
  {
   "cell_type": "code",
   "execution_count": 140,
   "metadata": {},
   "outputs": [
    {
     "data": {
      "text/html": [
       "<div>\n",
       "<style scoped>\n",
       "    .dataframe tbody tr th:only-of-type {\n",
       "        vertical-align: middle;\n",
       "    }\n",
       "\n",
       "    .dataframe tbody tr th {\n",
       "        vertical-align: top;\n",
       "    }\n",
       "\n",
       "    .dataframe thead th {\n",
       "        text-align: right;\n",
       "    }\n",
       "</style>\n",
       "<table border=\"1\" class=\"dataframe\">\n",
       "  <thead>\n",
       "    <tr style=\"text-align: right;\">\n",
       "      <th></th>\n",
       "      <th>id</th>\n",
       "      <th>type</th>\n",
       "      <th>title</th>\n",
       "      <th>director</th>\n",
       "      <th>cast</th>\n",
       "      <th>country</th>\n",
       "      <th>date_added</th>\n",
       "      <th>release_year</th>\n",
       "      <th>rating</th>\n",
       "      <th>listed_in</th>\n",
       "      <th>description</th>\n",
       "      <th>duration_int</th>\n",
       "      <th>duration_type</th>\n",
       "    </tr>\n",
       "  </thead>\n",
       "  <tbody>\n",
       "    <tr>\n",
       "      <th>0</th>\n",
       "      <td>as1</td>\n",
       "      <td>Movie</td>\n",
       "      <td>The Grand Seduction</td>\n",
       "      <td>Don McKellar</td>\n",
       "      <td>Brendan Gleeson, Taylor Kitsch, Gordon Pinsent</td>\n",
       "      <td>Canada</td>\n",
       "      <td>2021-03-30</td>\n",
       "      <td>2014</td>\n",
       "      <td>G</td>\n",
       "      <td>Comedy, Drama</td>\n",
       "      <td>A small fishing village must procure a local d...</td>\n",
       "      <td>113</td>\n",
       "      <td>min</td>\n",
       "    </tr>\n",
       "    <tr>\n",
       "      <th>1</th>\n",
       "      <td>as2</td>\n",
       "      <td>Movie</td>\n",
       "      <td>Take Care Good Night</td>\n",
       "      <td>Girish Joshi</td>\n",
       "      <td>Mahesh Manjrekar, Abhay Mahajan, Sachin Khedekar</td>\n",
       "      <td>India</td>\n",
       "      <td>2021-03-30</td>\n",
       "      <td>2018</td>\n",
       "      <td>13+</td>\n",
       "      <td>Drama, International</td>\n",
       "      <td>A Metro Family decides to fight a Cyber Crimin...</td>\n",
       "      <td>110</td>\n",
       "      <td>min</td>\n",
       "    </tr>\n",
       "    <tr>\n",
       "      <th>2</th>\n",
       "      <td>as3</td>\n",
       "      <td>Movie</td>\n",
       "      <td>Secrets of Deception</td>\n",
       "      <td>Josh Webber</td>\n",
       "      <td>Tom Sizemore, Lorenzo Lamas, Robert LaSardo, R...</td>\n",
       "      <td>United States</td>\n",
       "      <td>2021-03-30</td>\n",
       "      <td>2017</td>\n",
       "      <td>G</td>\n",
       "      <td>Action, Drama, Suspense</td>\n",
       "      <td>After a man discovers his wife is cheating on ...</td>\n",
       "      <td>74</td>\n",
       "      <td>min</td>\n",
       "    </tr>\n",
       "    <tr>\n",
       "      <th>3</th>\n",
       "      <td>as4</td>\n",
       "      <td>Movie</td>\n",
       "      <td>Pink: Staying True</td>\n",
       "      <td>Sonia Anderson</td>\n",
       "      <td>Interviews with: Pink, Adele, Beyoncé, Britney...</td>\n",
       "      <td>United States</td>\n",
       "      <td>2021-03-30</td>\n",
       "      <td>2014</td>\n",
       "      <td>G</td>\n",
       "      <td>Documentary</td>\n",
       "      <td>Pink breaks the mold once again, bringing her ...</td>\n",
       "      <td>69</td>\n",
       "      <td>min</td>\n",
       "    </tr>\n",
       "    <tr>\n",
       "      <th>4</th>\n",
       "      <td>as5</td>\n",
       "      <td>Movie</td>\n",
       "      <td>Monster Maker</td>\n",
       "      <td>Giles Foster</td>\n",
       "      <td>Harry Dean Stanton, Kieran O'Brien, George Cos...</td>\n",
       "      <td>United Kingdom</td>\n",
       "      <td>2021-03-30</td>\n",
       "      <td>1989</td>\n",
       "      <td>G</td>\n",
       "      <td>Drama, Fantasy</td>\n",
       "      <td>Teenage Matt Banting wants to work with a famo...</td>\n",
       "      <td>45</td>\n",
       "      <td>min</td>\n",
       "    </tr>\n",
       "  </tbody>\n",
       "</table>\n",
       "</div>"
      ],
      "text/plain": [
       "    id   type                 title        director  \\\n",
       "0  as1  Movie   The Grand Seduction    Don McKellar   \n",
       "1  as2  Movie  Take Care Good Night    Girish Joshi   \n",
       "2  as3  Movie  Secrets of Deception     Josh Webber   \n",
       "3  as4  Movie    Pink: Staying True  Sonia Anderson   \n",
       "4  as5  Movie         Monster Maker    Giles Foster   \n",
       "\n",
       "                                                cast         country  \\\n",
       "0     Brendan Gleeson, Taylor Kitsch, Gordon Pinsent          Canada   \n",
       "1   Mahesh Manjrekar, Abhay Mahajan, Sachin Khedekar           India   \n",
       "2  Tom Sizemore, Lorenzo Lamas, Robert LaSardo, R...   United States   \n",
       "3  Interviews with: Pink, Adele, Beyoncé, Britney...   United States   \n",
       "4  Harry Dean Stanton, Kieran O'Brien, George Cos...  United Kingdom   \n",
       "\n",
       "   date_added  release_year rating                listed_in  \\\n",
       "0  2021-03-30          2014      G            Comedy, Drama   \n",
       "1  2021-03-30          2018    13+     Drama, International   \n",
       "2  2021-03-30          2017      G  Action, Drama, Suspense   \n",
       "3  2021-03-30          2014      G              Documentary   \n",
       "4  2021-03-30          1989      G           Drama, Fantasy   \n",
       "\n",
       "                                         description  duration_int  \\\n",
       "0  A small fishing village must procure a local d...           113   \n",
       "1  A Metro Family decides to fight a Cyber Crimin...           110   \n",
       "2  After a man discovers his wife is cheating on ...            74   \n",
       "3  Pink breaks the mold once again, bringing her ...            69   \n",
       "4  Teenage Matt Banting wants to work with a famo...            45   \n",
       "\n",
       "  duration_type  \n",
       "0           min  \n",
       "1           min  \n",
       "2           min  \n",
       "3           min  \n",
       "4           min  "
      ]
     },
     "execution_count": 140,
     "metadata": {},
     "output_type": "execute_result"
    }
   ],
   "source": [
    "# 1)Generar campo `id`: Cada id se compondrá de la primera letra del nombre de la plataforma, seguido del show_id ya presente en los datasets (ejemplo para títulos de Amazon = **`as123`**)\n",
    "\n",
    "# Agregar la letra del nombre de la plataforma al principio de cada string en la columna 'nombre'\n",
    "dfamp['show_id'] = dfamp['show_id'].apply(lambda x: 'a'+ x)\n",
    "\n",
    "#cambiar el nombre del campo a id:\n",
    "\n",
    "dfamp = dfamp.rename(columns={\"show_id\": \"id\"})\n",
    "\n",
    "\n",
    "# Reemplazar valores nulos del campo \"rating\" por G\n",
    "dfamp['rating'] = dfamp['rating'].fillna(value='G')\n",
    "\n",
    "\n",
    "#Separar columna \"duration\" en dos columnas,\"durtion_int\" y \"duration_type\":\n",
    "dfamp[\"duration_int\"] = dfamp[\"duration\"].str.extract(r'(\\d+)').astype(int)  #\"r'(\\d+)\"\": es una form estandar para extraer un grupo de dígitos\n",
    "dfamp[\"duration_type\"] = dfamp[\"duration\"].str.extract(r'([a-zA-Z]+)').astype(str) #\"r'([a-zA-Z]+)'\": es una form estandar para extraer un grupo de caracteres str\n",
    "dfamp['duration_type'] = dfamp['duration_type'].str.strip()\n",
    "\n",
    "# Media de tiempo de duración de películas y series\n",
    "dfamp_movies_mean = dfamp.loc[dfamp['type'] == 'Movie', 'duration_int'].dropna().mean()\n",
    "dfamp_TVShow_mean = dfamp.loc[dfamp['type'] == 'TV Show', 'duration_int'].dropna().mean()\n",
    "\n",
    "# Los valores nulos en la columna \"duration_int\" se remmplazan por las medias de la películas y series \n",
    "dfamp.loc[dfamp['type'] == 'Movie', 'duration_int'].fillna(dfamp_movies_mean)\n",
    "dfamp.loc[dfamp['type'] == 'TV Show', 'duration_int'].fillna(dfamp_TVShow_mean)\n",
    "\n",
    "# Los valores nulos en la columna \"duration_type\" se remmplazan por \"min\" o \"season\" e función columna \"type\" \n",
    "dfamp.loc[dfamp['type'] == 'Movie', 'duration_type'].fillna(\"min\")\n",
    "dfamp.loc[dfamp['type'] == 'TV Show', 'duration_type'].fillna(\"season\")\n",
    "\n",
    "dfamp.drop(columns=[\"duration\"], inplace= True)\n",
    "\n",
    "\n",
    "# Formatear la columna 'date_added' como 'YYYY-mm-dd'\n",
    "dfamp['date_added'] = pd.to_datetime(dfamp['date_added'], format='%B %d, %Y')\n",
    "dfamp['date_added'] = dfamp['date_added'].dt.strftime('%Y-%m-%d')\n",
    "dfamp['date_added'] \n",
    "\n",
    "dfamp.head(5)"
   ]
  },
  {
   "cell_type": "code",
   "execution_count": 141,
   "metadata": {},
   "outputs": [
    {
     "name": "stdout",
     "output_type": "stream",
     "text": [
      "91.311876119785\n",
      "1.7233009708737863\n"
     ]
    }
   ],
   "source": [
    "dfamp_movies_mean = dfamp.loc[dfamp['type'] == 'Movie', 'duration_int'].dropna().mean()\n",
    "dfamp_TVShow_mean = dfamp.loc[dfamp['type'] == 'TV Show', 'duration_int'].dropna().mean()\n",
    "print(dfamp_movies_mean )\n",
    "print(dfamp_TVShow_mean)"
   ]
  },
  {
   "cell_type": "code",
   "execution_count": 142,
   "metadata": {},
   "outputs": [
    {
     "data": {
      "text/plain": [
       "17       Season\n",
       "18       Season\n",
       "20       Season\n",
       "21       Season\n",
       "23       Season\n",
       "         ...   \n",
       "9651     Season\n",
       "9655     Season\n",
       "9661    Seasons\n",
       "9664    Seasons\n",
       "9666     Season\n",
       "Name: duration_type, Length: 1854, dtype: object"
      ]
     },
     "execution_count": 142,
     "metadata": {},
     "output_type": "execute_result"
    }
   ],
   "source": [
    "# Media de tiempo de duración de películas y series\n",
    "dfamp_movies_mean = dfamp.loc[dfamp['type'] == 'Movie', 'duration_int'].dropna().mean()\n",
    "dfamp_TVShow_mean = dfamp.loc[dfamp['type'] == 'TV Show', 'duration_int'].dropna().mean()\n",
    "\n",
    "# Los valores nulos en la columna \"duration_int\" se remmplazan por las medias de la películas y series \n",
    "dfamp.loc[dfamp['type'] == 'Movie', 'duration_int'].fillna(dfamp_movies_mean)\n",
    "dfamp.loc[dfamp['type'] == 'TV Show', 'duration_int'].fillna(dfamp_TVShow_mean)\n",
    "\n",
    "# Los valores nulos en la columna \"duration_type\" se remmplazan por \"min\" o \"season\" e función columna \"type\" \n",
    "dfamp.loc[dfamp['type'] == 'Movie', 'duration_type'].fillna(\"min\")\n",
    "dfamp.loc[dfamp['type'] == 'TV Show', 'duration_type'].fillna(\"season\")\n",
    "\n"
   ]
  },
  {
   "cell_type": "code",
   "execution_count": 143,
   "metadata": {},
   "outputs": [
    {
     "data": {
      "text/plain": [
       "min        7814\n",
       "Season     1342\n",
       "Seasons     512\n",
       "Name: duration_type, dtype: int64"
      ]
     },
     "execution_count": 143,
     "metadata": {},
     "output_type": "execute_result"
    }
   ],
   "source": [
    "dfamp[\"duration_type\"].value_counts()\n",
    "# La columna duration_type tiene 3 categorías"
   ]
  },
  {
   "attachments": {},
   "cell_type": "markdown",
   "metadata": {},
   "source": [
    "- Se solicita 2 categorías en duration_type , por lo que se reempaza \"Seasons\" por \"Season\":"
   ]
  },
  {
   "cell_type": "code",
   "execution_count": 144,
   "metadata": {},
   "outputs": [],
   "source": [
    "# Por requrimiento se reemplaza la categoría \"Seasons\" por\"seaon\" para dejar sólo dos caegoría \n",
    "dfamp[\"duration_type\"].replace({\"Seasons\":\"season\"}, inplace = True)  "
   ]
  },
  {
   "cell_type": "code",
   "execution_count": 145,
   "metadata": {},
   "outputs": [],
   "source": [
    "#Por  requerimiento se pide la categoría \"season\" con minúscula\n",
    "dfamp[\"duration_type\"] = dfamp[\"duration_type\"].str.lower()"
   ]
  },
  {
   "cell_type": "code",
   "execution_count": 146,
   "metadata": {},
   "outputs": [
    {
     "data": {
      "text/plain": [
       "min       7814\n",
       "season    1854\n",
       "Name: duration_type, dtype: int64"
      ]
     },
     "execution_count": 146,
     "metadata": {},
     "output_type": "execute_result"
    }
   ],
   "source": [
    "dfamp[\"duration_type\"].value_counts()  "
   ]
  },
  {
   "cell_type": "code",
   "execution_count": 147,
   "metadata": {},
   "outputs": [],
   "source": [
    "#pasar la columna date_aded a formato date\n",
    "dfamp[\"date_added\"] = dfamp[\"date_added\"].astype('datetime64[ns]')"
   ]
  },
  {
   "cell_type": "code",
   "execution_count": 148,
   "metadata": {},
   "outputs": [
    {
     "name": "stdout",
     "output_type": "stream",
     "text": [
      "<class 'pandas.core.frame.DataFrame'>\n",
      "RangeIndex: 9668 entries, 0 to 9667\n",
      "Data columns (total 13 columns):\n",
      " #   Column         Non-Null Count  Dtype         \n",
      "---  ------         --------------  -----         \n",
      " 0   id             9668 non-null   object        \n",
      " 1   type           9668 non-null   object        \n",
      " 2   title          9668 non-null   object        \n",
      " 3   director       7586 non-null   object        \n",
      " 4   cast           8435 non-null   object        \n",
      " 5   country        672 non-null    object        \n",
      " 6   date_added     155 non-null    datetime64[ns]\n",
      " 7   release_year   9668 non-null   int64         \n",
      " 8   rating         9668 non-null   object        \n",
      " 9   listed_in      9668 non-null   object        \n",
      " 10  description    9668 non-null   object        \n",
      " 11  duration_int   9668 non-null   int32         \n",
      " 12  duration_type  9668 non-null   object        \n",
      "dtypes: datetime64[ns](1), int32(1), int64(1), object(10)\n",
      "memory usage: 944.3+ KB\n"
     ]
    }
   ],
   "source": [
    "dfamp.info()\n"
   ]
  },
  {
   "attachments": {},
   "cell_type": "markdown",
   "metadata": {},
   "source": [
    "`B) Transformaciones sobre el dataframe de Disney:`(usar mismo bloque de código)"
   ]
  },
  {
   "cell_type": "code",
   "execution_count": 15,
   "metadata": {},
   "outputs": [
    {
     "data": {
      "text/plain": [
       "(1450, 12)"
      ]
     },
     "execution_count": 15,
     "metadata": {},
     "output_type": "execute_result"
    }
   ],
   "source": [
    "dfdis = pd.read_csv(\"https://www.dropbox.com/s/z7c4doxlqcxnvg8/disney_plus_titles.csv?dl=1\")\n",
    "dfdis.shape"
   ]
  },
  {
   "cell_type": "code",
   "execution_count": 17,
   "metadata": {},
   "outputs": [
    {
     "data": {
      "text/html": [
       "<div>\n",
       "<style scoped>\n",
       "    .dataframe tbody tr th:only-of-type {\n",
       "        vertical-align: middle;\n",
       "    }\n",
       "\n",
       "    .dataframe tbody tr th {\n",
       "        vertical-align: top;\n",
       "    }\n",
       "\n",
       "    .dataframe thead th {\n",
       "        text-align: right;\n",
       "    }\n",
       "</style>\n",
       "<table border=\"1\" class=\"dataframe\">\n",
       "  <thead>\n",
       "    <tr style=\"text-align: right;\">\n",
       "      <th></th>\n",
       "      <th>show_id</th>\n",
       "      <th>type</th>\n",
       "      <th>title</th>\n",
       "      <th>director</th>\n",
       "      <th>cast</th>\n",
       "      <th>country</th>\n",
       "      <th>date_added</th>\n",
       "      <th>release_year</th>\n",
       "      <th>rating</th>\n",
       "      <th>duration</th>\n",
       "      <th>listed_in</th>\n",
       "      <th>description</th>\n",
       "    </tr>\n",
       "  </thead>\n",
       "  <tbody>\n",
       "    <tr>\n",
       "      <th>1449</th>\n",
       "      <td>s1450</td>\n",
       "      <td>Movie</td>\n",
       "      <td>Captain Sparky vs. The Flying Saucers</td>\n",
       "      <td>Mark Waring</td>\n",
       "      <td>Charlie Tahan</td>\n",
       "      <td>United States</td>\n",
       "      <td>April 1, 2020</td>\n",
       "      <td>2012</td>\n",
       "      <td>TV-G</td>\n",
       "      <td>2 min</td>\n",
       "      <td>Action-Adventure, Animals &amp; Nature, Animation</td>\n",
       "      <td>View one of Sparky's favorite home movies.</td>\n",
       "    </tr>\n",
       "  </tbody>\n",
       "</table>\n",
       "</div>"
      ],
      "text/plain": [
       "     show_id   type                                  title     director  \\\n",
       "1449   s1450  Movie  Captain Sparky vs. The Flying Saucers  Mark Waring   \n",
       "\n",
       "               cast        country     date_added  release_year rating  \\\n",
       "1449  Charlie Tahan  United States  April 1, 2020          2012   TV-G   \n",
       "\n",
       "     duration                                      listed_in  \\\n",
       "1449    2 min  Action-Adventure, Animals & Nature, Animation   \n",
       "\n",
       "                                     description  \n",
       "1449  View one of Sparky's favorite home movies.  "
      ]
     },
     "execution_count": 17,
     "metadata": {},
     "output_type": "execute_result"
    }
   ],
   "source": [
    "dfdis.tail(1)"
   ]
  },
  {
   "attachments": {},
   "cell_type": "markdown",
   "metadata": {},
   "source": [
    "- A diferencia del caso anterior, la primera columna se llama \"id\" y ya tiene la letra \"a\" de Amazon. Hay que reemplazarla por \"d\" "
   ]
  },
  {
   "cell_type": "code",
   "execution_count": 151,
   "metadata": {},
   "outputs": [
    {
     "name": "stdout",
     "output_type": "stream",
     "text": [
      "<class 'pandas.core.frame.DataFrame'>\n",
      "RangeIndex: 1450 entries, 0 to 1449\n",
      "Data columns (total 12 columns):\n",
      " #   Column        Non-Null Count  Dtype \n",
      "---  ------        --------------  ----- \n",
      " 0   show_id       1450 non-null   object\n",
      " 1   type          1450 non-null   object\n",
      " 2   title         1450 non-null   object\n",
      " 3   director      977 non-null    object\n",
      " 4   cast          1260 non-null   object\n",
      " 5   country       1231 non-null   object\n",
      " 6   date_added    1447 non-null   object\n",
      " 7   release_year  1450 non-null   int64 \n",
      " 8   rating        1447 non-null   object\n",
      " 9   duration      1450 non-null   object\n",
      " 10  listed_in     1450 non-null   object\n",
      " 11  description   1450 non-null   object\n",
      "dtypes: int64(1), object(11)\n",
      "memory usage: 136.1+ KB\n"
     ]
    }
   ],
   "source": [
    "dfdis.info()\n"
   ]
  },
  {
   "cell_type": "code",
   "execution_count": 152,
   "metadata": {},
   "outputs": [
    {
     "data": {
      "text/plain": [
       "False    1450\n",
       "dtype: int64"
      ]
     },
     "execution_count": 152,
     "metadata": {},
     "output_type": "execute_result"
    }
   ],
   "source": [
    "dfdis.duplicated().value_counts()"
   ]
  },
  {
   "cell_type": "code",
   "execution_count": 153,
   "metadata": {},
   "outputs": [
    {
     "data": {
      "text/html": [
       "<div>\n",
       "<style scoped>\n",
       "    .dataframe tbody tr th:only-of-type {\n",
       "        vertical-align: middle;\n",
       "    }\n",
       "\n",
       "    .dataframe tbody tr th {\n",
       "        vertical-align: top;\n",
       "    }\n",
       "\n",
       "    .dataframe thead th {\n",
       "        text-align: right;\n",
       "    }\n",
       "</style>\n",
       "<table border=\"1\" class=\"dataframe\">\n",
       "  <thead>\n",
       "    <tr style=\"text-align: right;\">\n",
       "      <th></th>\n",
       "      <th>show_id</th>\n",
       "      <th>type</th>\n",
       "      <th>title</th>\n",
       "      <th>director</th>\n",
       "      <th>cast</th>\n",
       "      <th>country</th>\n",
       "      <th>date_added</th>\n",
       "      <th>release_year</th>\n",
       "      <th>rating</th>\n",
       "      <th>duration</th>\n",
       "      <th>listed_in</th>\n",
       "      <th>description</th>\n",
       "    </tr>\n",
       "  </thead>\n",
       "  <tbody>\n",
       "    <tr>\n",
       "      <th>0</th>\n",
       "      <td>s1</td>\n",
       "      <td>Movie</td>\n",
       "      <td>Duck the Halls: A Mickey Mouse Christmas Special</td>\n",
       "      <td>Alonso Ramirez Ramos, Dave Wasson</td>\n",
       "      <td>Chris Diamantopoulos, Tony Anselmo, Tress MacN...</td>\n",
       "      <td>NaN</td>\n",
       "      <td>November 26, 2021</td>\n",
       "      <td>2016</td>\n",
       "      <td>TV-G</td>\n",
       "      <td>23 min</td>\n",
       "      <td>Animation, Family</td>\n",
       "      <td>Join Mickey and the gang as they duck the halls!</td>\n",
       "    </tr>\n",
       "    <tr>\n",
       "      <th>1</th>\n",
       "      <td>s2</td>\n",
       "      <td>Movie</td>\n",
       "      <td>Ernest Saves Christmas</td>\n",
       "      <td>John Cherry</td>\n",
       "      <td>Jim Varney, Noelle Parker, Douglas Seale</td>\n",
       "      <td>NaN</td>\n",
       "      <td>November 26, 2021</td>\n",
       "      <td>1988</td>\n",
       "      <td>PG</td>\n",
       "      <td>91 min</td>\n",
       "      <td>Comedy</td>\n",
       "      <td>Santa Claus passes his magic bag to a new St. ...</td>\n",
       "    </tr>\n",
       "    <tr>\n",
       "      <th>2</th>\n",
       "      <td>s3</td>\n",
       "      <td>Movie</td>\n",
       "      <td>Ice Age: A Mammoth Christmas</td>\n",
       "      <td>Karen Disher</td>\n",
       "      <td>Raymond Albert Romano, John Leguizamo, Denis L...</td>\n",
       "      <td>United States</td>\n",
       "      <td>November 26, 2021</td>\n",
       "      <td>2011</td>\n",
       "      <td>TV-G</td>\n",
       "      <td>23 min</td>\n",
       "      <td>Animation, Comedy, Family</td>\n",
       "      <td>Sid the Sloth is on Santa's naughty list.</td>\n",
       "    </tr>\n",
       "    <tr>\n",
       "      <th>3</th>\n",
       "      <td>s4</td>\n",
       "      <td>Movie</td>\n",
       "      <td>The Queen Family Singalong</td>\n",
       "      <td>Hamish Hamilton</td>\n",
       "      <td>Darren Criss, Adam Lambert, Derek Hough, Alexa...</td>\n",
       "      <td>NaN</td>\n",
       "      <td>November 26, 2021</td>\n",
       "      <td>2021</td>\n",
       "      <td>TV-PG</td>\n",
       "      <td>41 min</td>\n",
       "      <td>Musical</td>\n",
       "      <td>This is real life, not just fantasy!</td>\n",
       "    </tr>\n",
       "    <tr>\n",
       "      <th>4</th>\n",
       "      <td>s5</td>\n",
       "      <td>TV Show</td>\n",
       "      <td>The Beatles: Get Back</td>\n",
       "      <td>NaN</td>\n",
       "      <td>John Lennon, Paul McCartney, George Harrison, ...</td>\n",
       "      <td>NaN</td>\n",
       "      <td>November 25, 2021</td>\n",
       "      <td>2021</td>\n",
       "      <td>NaN</td>\n",
       "      <td>1 Season</td>\n",
       "      <td>Docuseries, Historical, Music</td>\n",
       "      <td>A three-part documentary from Peter Jackson ca...</td>\n",
       "    </tr>\n",
       "  </tbody>\n",
       "</table>\n",
       "</div>"
      ],
      "text/plain": [
       "  show_id     type                                             title  \\\n",
       "0      s1    Movie  Duck the Halls: A Mickey Mouse Christmas Special   \n",
       "1      s2    Movie                            Ernest Saves Christmas   \n",
       "2      s3    Movie                      Ice Age: A Mammoth Christmas   \n",
       "3      s4    Movie                        The Queen Family Singalong   \n",
       "4      s5  TV Show                             The Beatles: Get Back   \n",
       "\n",
       "                            director  \\\n",
       "0  Alonso Ramirez Ramos, Dave Wasson   \n",
       "1                        John Cherry   \n",
       "2                       Karen Disher   \n",
       "3                    Hamish Hamilton   \n",
       "4                                NaN   \n",
       "\n",
       "                                                cast        country  \\\n",
       "0  Chris Diamantopoulos, Tony Anselmo, Tress MacN...            NaN   \n",
       "1           Jim Varney, Noelle Parker, Douglas Seale            NaN   \n",
       "2  Raymond Albert Romano, John Leguizamo, Denis L...  United States   \n",
       "3  Darren Criss, Adam Lambert, Derek Hough, Alexa...            NaN   \n",
       "4  John Lennon, Paul McCartney, George Harrison, ...            NaN   \n",
       "\n",
       "          date_added  release_year rating  duration  \\\n",
       "0  November 26, 2021          2016   TV-G    23 min   \n",
       "1  November 26, 2021          1988     PG    91 min   \n",
       "2  November 26, 2021          2011   TV-G    23 min   \n",
       "3  November 26, 2021          2021  TV-PG    41 min   \n",
       "4  November 25, 2021          2021    NaN  1 Season   \n",
       "\n",
       "                       listed_in  \\\n",
       "0              Animation, Family   \n",
       "1                         Comedy   \n",
       "2      Animation, Comedy, Family   \n",
       "3                        Musical   \n",
       "4  Docuseries, Historical, Music   \n",
       "\n",
       "                                         description  \n",
       "0   Join Mickey and the gang as they duck the halls!  \n",
       "1  Santa Claus passes his magic bag to a new St. ...  \n",
       "2          Sid the Sloth is on Santa's naughty list.  \n",
       "3               This is real life, not just fantasy!  \n",
       "4  A three-part documentary from Peter Jackson ca...  "
      ]
     },
     "execution_count": 153,
     "metadata": {},
     "output_type": "execute_result"
    }
   ],
   "source": [
    "dfdis.head(5)"
   ]
  },
  {
   "cell_type": "code",
   "execution_count": 154,
   "metadata": {},
   "outputs": [
    {
     "data": {
      "text/html": [
       "<div>\n",
       "<style scoped>\n",
       "    .dataframe tbody tr th:only-of-type {\n",
       "        vertical-align: middle;\n",
       "    }\n",
       "\n",
       "    .dataframe tbody tr th {\n",
       "        vertical-align: top;\n",
       "    }\n",
       "\n",
       "    .dataframe thead th {\n",
       "        text-align: right;\n",
       "    }\n",
       "</style>\n",
       "<table border=\"1\" class=\"dataframe\">\n",
       "  <thead>\n",
       "    <tr style=\"text-align: right;\">\n",
       "      <th></th>\n",
       "      <th>id</th>\n",
       "      <th>type</th>\n",
       "      <th>title</th>\n",
       "      <th>director</th>\n",
       "      <th>cast</th>\n",
       "      <th>country</th>\n",
       "      <th>date_added</th>\n",
       "      <th>release_year</th>\n",
       "      <th>rating</th>\n",
       "      <th>listed_in</th>\n",
       "      <th>description</th>\n",
       "      <th>duration_int</th>\n",
       "      <th>duration_type</th>\n",
       "    </tr>\n",
       "  </thead>\n",
       "  <tbody>\n",
       "    <tr>\n",
       "      <th>0</th>\n",
       "      <td>ds1</td>\n",
       "      <td>Movie</td>\n",
       "      <td>Duck the Halls: A Mickey Mouse Christmas Special</td>\n",
       "      <td>Alonso Ramirez Ramos, Dave Wasson</td>\n",
       "      <td>Chris Diamantopoulos, Tony Anselmo, Tress MacN...</td>\n",
       "      <td>NaN</td>\n",
       "      <td>2021-11-26</td>\n",
       "      <td>2016</td>\n",
       "      <td>TV-G</td>\n",
       "      <td>Animation, Family</td>\n",
       "      <td>Join Mickey and the gang as they duck the halls!</td>\n",
       "      <td>23</td>\n",
       "      <td>min</td>\n",
       "    </tr>\n",
       "  </tbody>\n",
       "</table>\n",
       "</div>"
      ],
      "text/plain": [
       "    id   type                                             title  \\\n",
       "0  ds1  Movie  Duck the Halls: A Mickey Mouse Christmas Special   \n",
       "\n",
       "                            director  \\\n",
       "0  Alonso Ramirez Ramos, Dave Wasson   \n",
       "\n",
       "                                                cast country date_added  \\\n",
       "0  Chris Diamantopoulos, Tony Anselmo, Tress MacN...     NaN 2021-11-26   \n",
       "\n",
       "   release_year rating          listed_in  \\\n",
       "0          2016   TV-G  Animation, Family   \n",
       "\n",
       "                                        description  duration_int  \\\n",
       "0  Join Mickey and the gang as they duck the halls!            23   \n",
       "\n",
       "  duration_type  \n",
       "0           min  "
      ]
     },
     "execution_count": 154,
     "metadata": {},
     "output_type": "execute_result"
    }
   ],
   "source": [
    "# 1)Modificar en el campo`show_id` reemplazando la letra \"s\" por \"d\"\n",
    "dfdis['show_id'] = dfdis['show_id'].apply(lambda x: 'd'+ x)\n",
    "\n",
    "#cambiar el nombre del campo a id:\n",
    "\n",
    "dfdis = dfdis.rename(columns={\"show_id\": \"id\"})\n",
    "dfdis.head(1)\n",
    "\n",
    "# Reemplazar valores nulos del campo \"rating\" por G\n",
    "dfdis['rating'] = dfdis['rating'].fillna(value='G')\n",
    "\n",
    "\n",
    "#Separar columna \"duration\" en dos columnas,\"durtion_int\" y \"duration_type\":\n",
    "dfdis[\"duration_int\"] = dfdis[\"duration\"].str.extract(r'(\\d+)') #.astype(int)  #\"r'(\\d+)\"\": es una form estandar para extraer un grupo de dígitos\n",
    "dfdis[\"duration_type\"] = dfdis[\"duration\"].str.extract(r'([a-zA-Z]+)').astype(str) #\"r'([a-zA-Z]+)'\": es una form estandar para extraer un grupo de caracteres str\n",
    "dfdis['duration_type'] = dfdis['duration_type'].str.strip()\n",
    "\n",
    "dfdis.drop(columns=[\"duration\"], inplace= True)\n",
    "\n",
    "\n",
    "# Formatear la columna 'date_added' como 'YYYY-mm-dd'\n",
    "dfdis['date_added'] = pd.to_datetime(dfdis['date_added'], format='%B %d, %Y')\n",
    "dfdis['date_added'] = dfdis['date_added'].dt.strftime('%Y-%m-%d')\n",
    "dfdis['date_added'] \n",
    "\n",
    "#pasar la columna duraio_int a int\n",
    "dfdis[\"duration_int\"]= dfdis[\"duration_int\"].astype(int)\n",
    "\n",
    "# Por requrimiento se reemplaza la categoría \"Seasons\" por\"seaon\" para dejar sólo dos caegoría \n",
    "dfdis[\"duration_type\"].replace({\"Seasons\":\"season\"}, inplace = True)  \n",
    "#Por  requerimiento se pide la categoría \"season\" con minúscula\n",
    "dfdis[\"duration_type\"] = dfdis[\"duration_type\"].str.lower()\n",
    "\n",
    "#pasar la columna date_aded a formato date\n",
    "dfdis[\"date_added\"] = dfdis[\"date_added\"].astype('datetime64[ns]')\n",
    "\n",
    "#pasar la columna date_aded a formato date\n",
    "dfdis[\"date_added\"] = dfdis[\"date_added\"].astype('datetime64[ns]')\n",
    "\n",
    "dfdis.head(1)\n"
   ]
  },
  {
   "cell_type": "code",
   "execution_count": 155,
   "metadata": {},
   "outputs": [
    {
     "name": "stdout",
     "output_type": "stream",
     "text": [
      "<class 'pandas.core.frame.DataFrame'>\n",
      "RangeIndex: 1450 entries, 0 to 1449\n",
      "Data columns (total 13 columns):\n",
      " #   Column         Non-Null Count  Dtype         \n",
      "---  ------         --------------  -----         \n",
      " 0   id             1450 non-null   object        \n",
      " 1   type           1450 non-null   object        \n",
      " 2   title          1450 non-null   object        \n",
      " 3   director       977 non-null    object        \n",
      " 4   cast           1260 non-null   object        \n",
      " 5   country        1231 non-null   object        \n",
      " 6   date_added     1447 non-null   datetime64[ns]\n",
      " 7   release_year   1450 non-null   int64         \n",
      " 8   rating         1450 non-null   object        \n",
      " 9   listed_in      1450 non-null   object        \n",
      " 10  description    1450 non-null   object        \n",
      " 11  duration_int   1450 non-null   int32         \n",
      " 12  duration_type  1450 non-null   object        \n",
      "dtypes: datetime64[ns](1), int32(1), int64(1), object(10)\n",
      "memory usage: 141.7+ KB\n"
     ]
    }
   ],
   "source": [
    "dfdis.info()"
   ]
  },
  {
   "attachments": {},
   "cell_type": "markdown",
   "metadata": {},
   "source": [
    "`C) Transformaciones sobre el dataframe de Hulu:`(usar mismo bloque de código)"
   ]
  },
  {
   "cell_type": "code",
   "execution_count": 18,
   "metadata": {},
   "outputs": [
    {
     "data": {
      "text/plain": [
       "(3073, 12)"
      ]
     },
     "execution_count": 18,
     "metadata": {},
     "output_type": "execute_result"
    }
   ],
   "source": [
    "dfhul = pd.read_csv(\"https://www.dropbox.com/s/f98heetnneq903r/hulu_titles.csv?dl=1\")\n",
    "dfhul.shape"
   ]
  },
  {
   "cell_type": "code",
   "execution_count": 157,
   "metadata": {},
   "outputs": [
    {
     "name": "stdout",
     "output_type": "stream",
     "text": [
      "<class 'pandas.core.frame.DataFrame'>\n",
      "RangeIndex: 3073 entries, 0 to 3072\n",
      "Data columns (total 12 columns):\n",
      " #   Column        Non-Null Count  Dtype  \n",
      "---  ------        --------------  -----  \n",
      " 0   show_id       3073 non-null   object \n",
      " 1   type          3073 non-null   object \n",
      " 2   title         3073 non-null   object \n",
      " 3   director      3 non-null      object \n",
      " 4   cast          0 non-null      float64\n",
      " 5   country       1620 non-null   object \n",
      " 6   date_added    3045 non-null   object \n",
      " 7   release_year  3073 non-null   int64  \n",
      " 8   rating        2553 non-null   object \n",
      " 9   duration      2594 non-null   object \n",
      " 10  listed_in     3073 non-null   object \n",
      " 11  description   3069 non-null   object \n",
      "dtypes: float64(1), int64(1), object(10)\n",
      "memory usage: 288.2+ KB\n"
     ]
    }
   ],
   "source": [
    "dfhul.info()"
   ]
  },
  {
   "cell_type": "code",
   "execution_count": 158,
   "metadata": {},
   "outputs": [
    {
     "data": {
      "text/plain": [
       "False    3073\n",
       "dtype: int64"
      ]
     },
     "execution_count": 158,
     "metadata": {},
     "output_type": "execute_result"
    }
   ],
   "source": [
    "dfhul.duplicated().value_counts()"
   ]
  },
  {
   "cell_type": "code",
   "execution_count": 159,
   "metadata": {},
   "outputs": [
    {
     "data": {
      "text/html": [
       "<div>\n",
       "<style scoped>\n",
       "    .dataframe tbody tr th:only-of-type {\n",
       "        vertical-align: middle;\n",
       "    }\n",
       "\n",
       "    .dataframe tbody tr th {\n",
       "        vertical-align: top;\n",
       "    }\n",
       "\n",
       "    .dataframe thead th {\n",
       "        text-align: right;\n",
       "    }\n",
       "</style>\n",
       "<table border=\"1\" class=\"dataframe\">\n",
       "  <thead>\n",
       "    <tr style=\"text-align: right;\">\n",
       "      <th></th>\n",
       "      <th>id</th>\n",
       "      <th>type</th>\n",
       "      <th>title</th>\n",
       "      <th>director</th>\n",
       "      <th>cast</th>\n",
       "      <th>country</th>\n",
       "      <th>date_added</th>\n",
       "      <th>release_year</th>\n",
       "      <th>rating</th>\n",
       "      <th>listed_in</th>\n",
       "      <th>description</th>\n",
       "      <th>duration_int</th>\n",
       "      <th>duration_type</th>\n",
       "    </tr>\n",
       "  </thead>\n",
       "  <tbody>\n",
       "    <tr>\n",
       "      <th>0</th>\n",
       "      <td>hs1</td>\n",
       "      <td>Movie</td>\n",
       "      <td>Ricky Velez: Here's Everything</td>\n",
       "      <td>NaN</td>\n",
       "      <td>NaN</td>\n",
       "      <td>NaN</td>\n",
       "      <td>2021-10-24</td>\n",
       "      <td>2021</td>\n",
       "      <td>TV-MA</td>\n",
       "      <td>Comedy, Stand Up</td>\n",
       "      <td>​Comedian Ricky Velez bares it all with his ho...</td>\n",
       "      <td>98</td>\n",
       "      <td>nan</td>\n",
       "    </tr>\n",
       "  </tbody>\n",
       "</table>\n",
       "</div>"
      ],
      "text/plain": [
       "    id   type                           title director  cast country  \\\n",
       "0  hs1  Movie  Ricky Velez: Here's Everything      NaN   NaN     NaN   \n",
       "\n",
       "  date_added  release_year rating         listed_in  \\\n",
       "0 2021-10-24          2021  TV-MA  Comedy, Stand Up   \n",
       "\n",
       "                                         description  duration_int  \\\n",
       "0  ​Comedian Ricky Velez bares it all with his ho...            98   \n",
       "\n",
       "  duration_type  \n",
       "0           nan  "
      ]
     },
     "execution_count": 159,
     "metadata": {},
     "output_type": "execute_result"
    }
   ],
   "source": [
    "# Agregar la letra del nombre de la plataforma al principio de cada string en la columna 'nombre'\n",
    "dfhul['show_id'] = dfhul['show_id'].apply(lambda x: 'h'+ x)\n",
    "\n",
    "#cambiar el nombre del campo a id:\n",
    "dfhul = dfhul.rename(columns={\"show_id\": \"id\"})\n",
    "dfhul.head(1)\n",
    "\n",
    "# Reemplazar valores nulos del campo \"rating\" por G\n",
    "dfhul['rating'] = dfhul['rating'].fillna(value='G')\n",
    "\n",
    "\n",
    "#Separar columna \"duration\" en dos columnas,\"durtion_int\" y \"duration_type\":\n",
    "dfhul[\"duration_int\"] = dfhul[\"duration\"].str.extract(r'(\\d+)').astype(float)  #\"r'(\\d+)\"\": es una form estandar para extraer un grupo de dígitos.El tipo tiene que ser float ya que los np.nan sólo se pueden convertir a float\n",
    "dfhul[\"duration_type\"] = dfhul[\"duration\"].str.extract(r'([a-zA-Z]+)').astype(str) #\"r'([a-zA-Z]+)'\": es una form estandar para extraer un grupo de caracteres str\n",
    "dfhul['duration_type'] = dfhul['duration_type'].str.strip()\n",
    "\n",
    "# Hay valores Nan en la coluna \"duration\".Se imputarrán valores según criterio(**) \n",
    "# Calcular la media de los valores de \"duration_int\" para los registros de películas\n",
    "dfhul_movies_mean = dfhul.loc[dfhul['type'] == 'Movie', 'duration_int'].mean()\n",
    "\n",
    "# Reemplazar los valores nulos de \"duration_int\" por la media de películas\n",
    "dfhul.loc[dfhul['type'] == 'Movie', 'duration_int'] = dfhul.loc[dfhul['type'] == 'Movie', 'duration_int'].fillna(dfhul_movies_mean)\n",
    "\n",
    "# Calcular la media de los valores de \"duration_int\" para los registros de series\n",
    "dfhul_TVShow_mean = dfhul.loc[dfhul['type'] == 'TV Show', 'duration_int'].mean()\n",
    "\n",
    "# Reemplazar los valores nulos de \"duration_int\" por la media de series\n",
    "dfhul.loc[dfhul['type'] == 'TV Show', 'duration_int'] = dfhul.loc[dfhul['type'] == 'TV Show', 'duration_int'].fillna(dfhul_TVShow_mean)\n",
    "\n",
    "# Reemplazar los valores nulos de \"duration_type\" por \"min\" o \"season\" según el tipo de registro\n",
    "dfhul.loc[dfhul['type'] == 'Movie', 'duration_type'] = dfhul.loc[dfhul['type'] == 'Movie', 'duration_type'].fillna(\"min\")\n",
    "dfhul.loc[dfhul['type'] == 'TV Show', 'duration_type'] = dfhul.loc[dfhul['type'] == 'TV Show', 'duration_type'].fillna(\"season\")\n",
    "\n",
    "#pasar la columna duraio_int a int\n",
    "dfhul[\"duration_int\"]= dfhul[\"duration_int\"].astype(int)\n",
    "\n",
    "dfhul.drop(columns=[\"duration\"], inplace= True)\n",
    "\n",
    "# Formatear la columna 'date_added' como 'YYYY-mm-dd'\n",
    "dfhul['date_added'] = pd.to_datetime(dfhul['date_added'], format='%B %d, %Y')\n",
    "dfhul['date_added'] = dfhul['date_added'].dt.strftime('%Y-%m-%d')\n",
    "dfhul['date_added'] \n",
    "\n",
    "# Porrequrimiento se reemplaza la categoría \"Seasons\" por\"seaon\" para dejar sólo dos caegoría \n",
    "dfhul[\"duration_type\"].replace({\"Seasons\":\"season\"}, inplace = True)  \n",
    "#Por  requerimiento se pide la categoría \"season\" con minúscula\n",
    "dfhul[\"duration_type\"] = dfhul[\"duration_type\"].str.lower()\n",
    "\n",
    "#pasar la columna date_aded a formato date\n",
    "dfhul[\"date_added\"] = dfhul[\"date_added\"].astype('datetime64[ns]')\n",
    "dfhul.head(1)"
   ]
  },
  {
   "cell_type": "code",
   "execution_count": 160,
   "metadata": {},
   "outputs": [
    {
     "name": "stdout",
     "output_type": "stream",
     "text": [
      "<class 'pandas.core.frame.DataFrame'>\n",
      "RangeIndex: 3073 entries, 0 to 3072\n",
      "Data columns (total 13 columns):\n",
      " #   Column         Non-Null Count  Dtype         \n",
      "---  ------         --------------  -----         \n",
      " 0   id             3073 non-null   object        \n",
      " 1   type           3073 non-null   object        \n",
      " 2   title          3073 non-null   object        \n",
      " 3   director       3 non-null      object        \n",
      " 4   cast           0 non-null      float64       \n",
      " 5   country        1620 non-null   object        \n",
      " 6   date_added     3045 non-null   datetime64[ns]\n",
      " 7   release_year   3073 non-null   int64         \n",
      " 8   rating         3073 non-null   object        \n",
      " 9   listed_in      3073 non-null   object        \n",
      " 10  description    3069 non-null   object        \n",
      " 11  duration_int   3073 non-null   int32         \n",
      " 12  duration_type  3073 non-null   object        \n",
      "dtypes: datetime64[ns](1), float64(1), int32(1), int64(1), object(9)\n",
      "memory usage: 300.2+ KB\n"
     ]
    }
   ],
   "source": [
    "dfhul.info()"
   ]
  },
  {
   "cell_type": "code",
   "execution_count": 161,
   "metadata": {},
   "outputs": [
    {
     "data": {
      "text/plain": [
       "False    3073\n",
       "Name: duration_type, dtype: int64"
      ]
     },
     "execution_count": 161,
     "metadata": {},
     "output_type": "execute_result"
    }
   ],
   "source": [
    "dfhul[\"duration_type\"].isnull().value_counts()\n"
   ]
  },
  {
   "attachments": {},
   "cell_type": "markdown",
   "metadata": {},
   "source": [
    "`D) Transformaciones sobre el dataframe de Netflix:`(usar mismo bloque de código)"
   ]
  },
  {
   "cell_type": "code",
   "execution_count": 19,
   "metadata": {},
   "outputs": [
    {
     "data": {
      "text/plain": [
       "(8807, 12)"
      ]
     },
     "execution_count": 19,
     "metadata": {},
     "output_type": "execute_result"
    }
   ],
   "source": [
    "dfnet = pd.read_csv(\"https://www.dropbox.com/s/4xg9217l16j4uvv/netflix_titles.csv?dl=1\")\n",
    "dfnet.shape"
   ]
  },
  {
   "cell_type": "code",
   "execution_count": 163,
   "metadata": {},
   "outputs": [
    {
     "data": {
      "text/html": [
       "<div>\n",
       "<style scoped>\n",
       "    .dataframe tbody tr th:only-of-type {\n",
       "        vertical-align: middle;\n",
       "    }\n",
       "\n",
       "    .dataframe tbody tr th {\n",
       "        vertical-align: top;\n",
       "    }\n",
       "\n",
       "    .dataframe thead th {\n",
       "        text-align: right;\n",
       "    }\n",
       "</style>\n",
       "<table border=\"1\" class=\"dataframe\">\n",
       "  <thead>\n",
       "    <tr style=\"text-align: right;\">\n",
       "      <th></th>\n",
       "      <th>show_id</th>\n",
       "      <th>type</th>\n",
       "      <th>title</th>\n",
       "      <th>director</th>\n",
       "      <th>cast</th>\n",
       "      <th>country</th>\n",
       "      <th>date_added</th>\n",
       "      <th>release_year</th>\n",
       "      <th>rating</th>\n",
       "      <th>duration</th>\n",
       "      <th>listed_in</th>\n",
       "      <th>description</th>\n",
       "    </tr>\n",
       "  </thead>\n",
       "  <tbody>\n",
       "    <tr>\n",
       "      <th>0</th>\n",
       "      <td>s1</td>\n",
       "      <td>Movie</td>\n",
       "      <td>Dick Johnson Is Dead</td>\n",
       "      <td>Kirsten Johnson</td>\n",
       "      <td>NaN</td>\n",
       "      <td>United States</td>\n",
       "      <td>September 25, 2021</td>\n",
       "      <td>2020</td>\n",
       "      <td>PG-13</td>\n",
       "      <td>90 min</td>\n",
       "      <td>Documentaries</td>\n",
       "      <td>As her father nears the end of his life, filmm...</td>\n",
       "    </tr>\n",
       "  </tbody>\n",
       "</table>\n",
       "</div>"
      ],
      "text/plain": [
       "  show_id   type                 title         director cast        country  \\\n",
       "0      s1  Movie  Dick Johnson Is Dead  Kirsten Johnson  NaN  United States   \n",
       "\n",
       "           date_added  release_year rating duration      listed_in  \\\n",
       "0  September 25, 2021          2020  PG-13   90 min  Documentaries   \n",
       "\n",
       "                                         description  \n",
       "0  As her father nears the end of his life, filmm...  "
      ]
     },
     "execution_count": 163,
     "metadata": {},
     "output_type": "execute_result"
    }
   ],
   "source": [
    "dfnet.head(1)\n"
   ]
  },
  {
   "cell_type": "code",
   "execution_count": 164,
   "metadata": {},
   "outputs": [
    {
     "name": "stdout",
     "output_type": "stream",
     "text": [
      "<class 'pandas.core.frame.DataFrame'>\n",
      "RangeIndex: 8807 entries, 0 to 8806\n",
      "Data columns (total 12 columns):\n",
      " #   Column        Non-Null Count  Dtype \n",
      "---  ------        --------------  ----- \n",
      " 0   show_id       8807 non-null   object\n",
      " 1   type          8807 non-null   object\n",
      " 2   title         8807 non-null   object\n",
      " 3   director      6173 non-null   object\n",
      " 4   cast          7982 non-null   object\n",
      " 5   country       7976 non-null   object\n",
      " 6   date_added    8797 non-null   object\n",
      " 7   release_year  8807 non-null   int64 \n",
      " 8   rating        8803 non-null   object\n",
      " 9   duration      8804 non-null   object\n",
      " 10  listed_in     8807 non-null   object\n",
      " 11  description   8807 non-null   object\n",
      "dtypes: int64(1), object(11)\n",
      "memory usage: 825.8+ KB\n"
     ]
    }
   ],
   "source": [
    "dfnet.info()"
   ]
  },
  {
   "cell_type": "code",
   "execution_count": 165,
   "metadata": {},
   "outputs": [
    {
     "data": {
      "text/html": [
       "<div>\n",
       "<style scoped>\n",
       "    .dataframe tbody tr th:only-of-type {\n",
       "        vertical-align: middle;\n",
       "    }\n",
       "\n",
       "    .dataframe tbody tr th {\n",
       "        vertical-align: top;\n",
       "    }\n",
       "\n",
       "    .dataframe thead th {\n",
       "        text-align: right;\n",
       "    }\n",
       "</style>\n",
       "<table border=\"1\" class=\"dataframe\">\n",
       "  <thead>\n",
       "    <tr style=\"text-align: right;\">\n",
       "      <th></th>\n",
       "      <th>id</th>\n",
       "      <th>type</th>\n",
       "      <th>title</th>\n",
       "      <th>director</th>\n",
       "      <th>cast</th>\n",
       "      <th>country</th>\n",
       "      <th>date_added</th>\n",
       "      <th>release_year</th>\n",
       "      <th>rating</th>\n",
       "      <th>listed_in</th>\n",
       "      <th>description</th>\n",
       "      <th>duration_int</th>\n",
       "      <th>duration_type</th>\n",
       "    </tr>\n",
       "  </thead>\n",
       "  <tbody>\n",
       "    <tr>\n",
       "      <th>0</th>\n",
       "      <td>ns1</td>\n",
       "      <td>Movie</td>\n",
       "      <td>Dick Johnson Is Dead</td>\n",
       "      <td>Kirsten Johnson</td>\n",
       "      <td>NaN</td>\n",
       "      <td>United States</td>\n",
       "      <td>2021-09-25</td>\n",
       "      <td>2020</td>\n",
       "      <td>PG-13</td>\n",
       "      <td>Documentaries</td>\n",
       "      <td>As her father nears the end of his life, filmm...</td>\n",
       "      <td>90</td>\n",
       "      <td>min</td>\n",
       "    </tr>\n",
       "  </tbody>\n",
       "</table>\n",
       "</div>"
      ],
      "text/plain": [
       "    id   type                 title         director cast        country  \\\n",
       "0  ns1  Movie  Dick Johnson Is Dead  Kirsten Johnson  NaN  United States   \n",
       "\n",
       "  date_added  release_year rating      listed_in  \\\n",
       "0 2021-09-25          2020  PG-13  Documentaries   \n",
       "\n",
       "                                         description  duration_int  \\\n",
       "0  As her father nears the end of his life, filmm...            90   \n",
       "\n",
       "  duration_type  \n",
       "0           min  "
      ]
     },
     "execution_count": 165,
     "metadata": {},
     "output_type": "execute_result"
    }
   ],
   "source": [
    "# Agregar la letra del nombre de la plataforma al principio de cada string en la columna 'nombre'\n",
    "dfnet['show_id'] = dfnet['show_id'].apply(lambda x: 'n'+ x)\n",
    "\n",
    "#cambiar el nombre del campo a id:\n",
    "dfnet = dfnet.rename(columns={\"show_id\": \"id\"})\n",
    "dfnet.head(1)\n",
    "\n",
    "# Reemplazar valores nulos del campo \"rating\" por G\n",
    "dfnet['rating'] = dfnet['rating'].fillna(value='G')\n",
    "\n",
    "\n",
    "#Separar columna \"duration\" en dos columnas,\"durtion_int\" y \"duration_type\":\n",
    "dfnet[\"duration_int\"] = dfnet[\"duration\"].str.extract(r'(\\d+)').astype(float)  #\"r'(\\d+)\"\": es una form estandar para extraer un grupo de dígitos.El tipo tiene que ser float ya que los np.nan sólo se pueden convertir a float\n",
    "dfnet[\"duration_type\"] = dfnet[\"duration\"].str.extract(r'([a-zA-Z]+)').astype(str) #\"r'([a-zA-Z]+)'\": es una form estandar para extraer un grupo de caracteres str\n",
    "dfnet['duration_type'] = dfnet['duration_type'].str.strip()\n",
    "\n",
    "# Hay valores Nan en la coluna \"duration\".Se imputarrán valores según criterio(**) \n",
    "# Calcular la media de los valores de \"duration_int\" para los registros de películas\n",
    "dfnet_movies_mean = dfnet.loc[dfnet['type'] == 'Movie', 'duration_int'].mean()\n",
    "# Reemplazar los valores nulos de \"duration_int\" por la media de películas\n",
    "dfnet.loc[dfnet['type'] == 'Movie', 'duration_int'] = dfnet.loc[dfnet['type'] == 'Movie', 'duration_int'].fillna(dfnet_movies_mean)\n",
    "# Calcular la media de los valores de \"duration_int\" para los registros de series\n",
    "dfnet_TVShow_mean = dfnet.loc[dfnet['type'] == 'TV Show', 'duration_int'].mean()\n",
    "\n",
    "# Reemplazar los valores nulos de \"duration_int\" por la media de series\n",
    "dfnet.loc[dfnet['type'] == 'TV Show', 'duration_int'] = dfnet.loc[dfnet['type'] == 'TV Show', 'duration_int'].fillna(dfnet_TVShow_mean)\n",
    "\n",
    "# Reemplazar los valores nulos de \"duration_type\" por \"min\" o \"season\" según el tipo de registro\n",
    "dfnet.loc[dfnet['type'] == 'Movie', 'duration_type'] = dfnet.loc[dfnet['type'] == 'Movie', 'duration_type'].fillna(\"min\")\n",
    "dfnet.loc[dfnet['type'] == 'TV Show', 'duration_type'] = dfnet.loc[dfnet['type'] == 'TV Show', 'duration_type'].fillna(\"season\")\n",
    "\n",
    "#pasar la columna duration_int a int\n",
    "dfnet[\"duration_int\"]= dfnet[\"duration_int\"].astype(int)\n",
    "\n",
    "dfnet.drop(columns=[\"duration\"], inplace= True)\n",
    "\n",
    "#Hay un espacio previo en los caracteres de la columna \"date_added\" que generan error\n",
    "#Se elimina espacio \n",
    "dfnet['date_added'] = dfnet['date_added'].str.strip()\n",
    "\n",
    "#Transformar a formato datetime\n",
    "dfnet['date_added'] = pd.to_datetime(dfnet['date_added'], format='%B %d, %Y')\n",
    "\n",
    "# Formatear la columna 'date_added' como 'YYYY-mm-dd'\n",
    "dfnet['date_added'] = dfnet['date_added'].dt.strftime('%Y-%m-%d')\n",
    "\n",
    "# Porrequrimiento se reemplaza la categoría \"Seasons\" por\"seaon\" para dejar sólo dos caegoría \n",
    "dfnet[\"duration_type\"].replace({\"Seasons\":\"season\"}, inplace = True)  \n",
    "#Por  requerimiento se pide la categoría \"season\" con minúscula\n",
    "dfnet[\"duration_type\"] = dfnet[\"duration_type\"].str.lower()\n",
    "\n",
    "#pasar la columna date_aded a formato date\n",
    "dfnet[\"date_added\"] = dfnet[\"date_added\"].astype('datetime64[ns]')\n",
    "dfnet.head(1)\n"
   ]
  },
  {
   "cell_type": "code",
   "execution_count": 166,
   "metadata": {},
   "outputs": [
    {
     "name": "stdout",
     "output_type": "stream",
     "text": [
      "<class 'pandas.core.frame.DataFrame'>\n",
      "RangeIndex: 8807 entries, 0 to 8806\n",
      "Data columns (total 13 columns):\n",
      " #   Column         Non-Null Count  Dtype         \n",
      "---  ------         --------------  -----         \n",
      " 0   id             8807 non-null   object        \n",
      " 1   type           8807 non-null   object        \n",
      " 2   title          8807 non-null   object        \n",
      " 3   director       6173 non-null   object        \n",
      " 4   cast           7982 non-null   object        \n",
      " 5   country        7976 non-null   object        \n",
      " 6   date_added     8797 non-null   datetime64[ns]\n",
      " 7   release_year   8807 non-null   int64         \n",
      " 8   rating         8807 non-null   object        \n",
      " 9   listed_in      8807 non-null   object        \n",
      " 10  description    8807 non-null   object        \n",
      " 11  duration_int   8807 non-null   int32         \n",
      " 12  duration_type  8807 non-null   object        \n",
      "dtypes: datetime64[ns](1), int32(1), int64(1), object(10)\n",
      "memory usage: 860.2+ KB\n"
     ]
    }
   ],
   "source": [
    "dfnet.info()"
   ]
  },
  {
   "attachments": {},
   "cell_type": "markdown",
   "metadata": {},
   "source": [
    "#### SE GENERA UN DATAFRAME COMPLETO  CONCATENANDO LOS 4 DATAFRAMES DE PLATAFORMAS:"
   ]
  },
  {
   "cell_type": "code",
   "execution_count": 167,
   "metadata": {},
   "outputs": [],
   "source": [
    "# Crear una nueva columna \"source\" en cada DataFrame\n",
    "dfamp['source'] = 'dfamp'\n",
    "dfdis['source'] = 'dfdis'\n",
    "dfhul['source'] = 'dfhul'\n",
    "dfnet['source'] = 'dfnet'\n",
    "\n",
    "# Concatenar los DataFrames verticalmente\n",
    "df_complet = pd.concat([dfamp, dfdis, dfhul, dfnet], axis=0)\n",
    "df_complet = df_complet.drop(columns='source')"
   ]
  },
  {
   "cell_type": "code",
   "execution_count": 168,
   "metadata": {},
   "outputs": [
    {
     "name": "stdout",
     "output_type": "stream",
     "text": [
      "<class 'pandas.core.frame.DataFrame'>\n",
      "Int64Index: 22998 entries, 0 to 8806\n",
      "Data columns (total 13 columns):\n",
      " #   Column         Non-Null Count  Dtype         \n",
      "---  ------         --------------  -----         \n",
      " 0   id             22998 non-null  object        \n",
      " 1   type           22998 non-null  object        \n",
      " 2   title          22998 non-null  object        \n",
      " 3   director       14739 non-null  object        \n",
      " 4   cast           17677 non-null  object        \n",
      " 5   country        11499 non-null  object        \n",
      " 6   date_added     13444 non-null  datetime64[ns]\n",
      " 7   release_year   22998 non-null  int64         \n",
      " 8   rating         22998 non-null  object        \n",
      " 9   listed_in      22998 non-null  object        \n",
      " 10  description    22994 non-null  object        \n",
      " 11  duration_int   22998 non-null  int32         \n",
      " 12  duration_type  22998 non-null  object        \n",
      "dtypes: datetime64[ns](1), int32(1), int64(1), object(10)\n",
      "memory usage: 2.4+ MB\n"
     ]
    }
   ],
   "source": [
    "df_complet.info()"
   ]
  },
  {
   "attachments": {},
   "cell_type": "markdown",
   "metadata": {},
   "source": [
    "- Verificación de Outliers en el dataframe competo de películas"
   ]
  },
  {
   "cell_type": "code",
   "execution_count": 169,
   "metadata": {},
   "outputs": [
    {
     "data": {
      "image/png": "[encoded data removed]",
      "text/plain": [
       "<Figure size 640x480 with 1 Axes>"
      ]
     },
     "metadata": {},
     "output_type": "display_data"
    }
   ],
   "source": [
    "import matplotlib.pyplot as plt\n",
    "\n",
    "plt.boxplot(df_complet['duration_int'])\n",
    "plt.title('Boxplot de la duración')\n",
    "plt.ylabel('Duración (minutos)')\n",
    "plt.show()"
   ]
  },
  {
   "attachments": {},
   "cell_type": "markdown",
   "metadata": {},
   "source": [
    "Concusión outiers:\n",
    "Según información de intenet Amazon Prime Video tiene/tuvo la película  \"La Flor\", dirigida por Mariano Llinás, con una duración de 14 horas y 23 minutos.Por lo que lo que aparentemente podía ser un outlier es una valor posible.  "
   ]
  },
  {
   "cell_type": "code",
   "execution_count": 170,
   "metadata": {},
   "outputs": [],
   "source": [
    "#Se exporta a un archivo .CSV para consumo de la API\n",
    "df_complet.to_csv(\"df_complet.csv\",index = False)"
   ]
  },
  {
   "attachments": {},
   "cell_type": "markdown",
   "metadata": {},
   "source": [
    "### CODIGO PARA OBTENER LOS VALORES DE RAITING DE LOS DATAFRAME DE USUARIOS EN EL DATAFRAME DE PELICULAS "
   ]
  },
  {
   "cell_type": "code",
   "execution_count": 171,
   "metadata": {},
   "outputs": [],
   "source": [
    "# Generar un único dataFrame de usuarios\n",
    "# Crear una nueva columna \"source\" en cada DataFrame\n",
    "df1['source'] = 'df1'\n",
    "df2['source'] = 'df2'\n",
    "df3['source'] = 'df3'\n",
    "df4['source'] = 'df4'\n",
    "df5['source'] = 'df1'\n",
    "df6['source'] = 'df2'\n",
    "df7['source'] = 'df3'\n",
    "df8['source'] = 'df4'\n",
    "\n",
    "# Concatenar los DataFrames verticalmente\n",
    "df_usuarios = pd.concat([df1, df2, df3, df4,df5, df6, df7, df8], axis=0)\n",
    "# Eliminar columna sobrante\n",
    "df_usuarios = df_usuarios.drop(columns='source')"
   ]
  },
  {
   "cell_type": "code",
   "execution_count": 172,
   "metadata": {},
   "outputs": [
    {
     "data": {
      "text/html": [
       "<div>\n",
       "<style scoped>\n",
       "    .dataframe tbody tr th:only-of-type {\n",
       "        vertical-align: middle;\n",
       "    }\n",
       "\n",
       "    .dataframe tbody tr th {\n",
       "        vertical-align: top;\n",
       "    }\n",
       "\n",
       "    .dataframe thead th {\n",
       "        text-align: right;\n",
       "    }\n",
       "</style>\n",
       "<table border=\"1\" class=\"dataframe\">\n",
       "  <thead>\n",
       "    <tr style=\"text-align: right;\">\n",
       "      <th></th>\n",
       "      <th>userId</th>\n",
       "      <th>rating</th>\n",
       "      <th>timestamp</th>\n",
       "      <th>movieId</th>\n",
       "    </tr>\n",
       "  </thead>\n",
       "  <tbody>\n",
       "    <tr>\n",
       "      <th>0</th>\n",
       "      <td>1</td>\n",
       "      <td>1.0</td>\n",
       "      <td>1425941529</td>\n",
       "      <td>as680</td>\n",
       "    </tr>\n",
       "    <tr>\n",
       "      <th>1</th>\n",
       "      <td>1</td>\n",
       "      <td>4.5</td>\n",
       "      <td>1425942435</td>\n",
       "      <td>ns2186</td>\n",
       "    </tr>\n",
       "    <tr>\n",
       "      <th>2</th>\n",
       "      <td>1</td>\n",
       "      <td>5.0</td>\n",
       "      <td>1425941523</td>\n",
       "      <td>hs2381</td>\n",
       "    </tr>\n",
       "    <tr>\n",
       "      <th>3</th>\n",
       "      <td>1</td>\n",
       "      <td>5.0</td>\n",
       "      <td>1425941546</td>\n",
       "      <td>ns3663</td>\n",
       "    </tr>\n",
       "    <tr>\n",
       "      <th>4</th>\n",
       "      <td>1</td>\n",
       "      <td>5.0</td>\n",
       "      <td>1425941556</td>\n",
       "      <td>as9500</td>\n",
       "    </tr>\n",
       "  </tbody>\n",
       "</table>\n",
       "</div>"
      ],
      "text/plain": [
       "   userId  rating   timestamp movieId\n",
       "0       1     1.0  1425941529   as680\n",
       "1       1     4.5  1425942435  ns2186\n",
       "2       1     5.0  1425941523  hs2381\n",
       "3       1     5.0  1425941546  ns3663\n",
       "4       1     5.0  1425941556  as9500"
      ]
     },
     "execution_count": 172,
     "metadata": {},
     "output_type": "execute_result"
    }
   ],
   "source": [
    "df_usuarios.head()"
   ]
  },
  {
   "cell_type": "code",
   "execution_count": 173,
   "metadata": {},
   "outputs": [
    {
     "data": {
      "text/plain": [
       "False    11024165\n",
       "True          124\n",
       "dtype: int64"
      ]
     },
     "execution_count": 173,
     "metadata": {},
     "output_type": "execute_result"
    }
   ],
   "source": [
    "df_usuarios.duplicated().value_counts()"
   ]
  },
  {
   "attachments": {},
   "cell_type": "markdown",
   "metadata": {},
   "source": [
    "se eliminan la 124 filas duplicadas:"
   ]
  },
  {
   "cell_type": "code",
   "execution_count": 174,
   "metadata": {},
   "outputs": [],
   "source": [
    "df_usuarios = df_usuarios.drop_duplicates()"
   ]
  },
  {
   "cell_type": "code",
   "execution_count": 175,
   "metadata": {},
   "outputs": [
    {
     "data": {
      "text/plain": [
       "4.0    2971384\n",
       "3.0    2233624\n",
       "5.0    1616504\n",
       "3.5    1330324\n",
       "4.5     919564\n",
       "2.0     739952\n",
       "2.5     530628\n",
       "1.0     350583\n",
       "1.5     167427\n",
       "0.5     164175\n",
       "Name: rating, dtype: int64"
      ]
     },
     "execution_count": 175,
     "metadata": {},
     "output_type": "execute_result"
    }
   ],
   "source": [
    "df_usuarios[\"rating\"].value_counts()"
   ]
  },
  {
   "cell_type": "code",
   "execution_count": 176,
   "metadata": {},
   "outputs": [
    {
     "data": {
      "text/plain": [
       "(22998, 13)"
      ]
     },
     "execution_count": 176,
     "metadata": {},
     "output_type": "execute_result"
    }
   ],
   "source": [
    "df_complet.shape"
   ]
  },
  {
   "cell_type": "code",
   "execution_count": 177,
   "metadata": {},
   "outputs": [
    {
     "data": {
      "text/html": [
       "<div>\n",
       "<style scoped>\n",
       "    .dataframe tbody tr th:only-of-type {\n",
       "        vertical-align: middle;\n",
       "    }\n",
       "\n",
       "    .dataframe tbody tr th {\n",
       "        vertical-align: top;\n",
       "    }\n",
       "\n",
       "    .dataframe thead th {\n",
       "        text-align: right;\n",
       "    }\n",
       "</style>\n",
       "<table border=\"1\" class=\"dataframe\">\n",
       "  <thead>\n",
       "    <tr style=\"text-align: right;\">\n",
       "      <th></th>\n",
       "      <th>movieId</th>\n",
       "      <th>promedio_raiting</th>\n",
       "    </tr>\n",
       "  </thead>\n",
       "  <tbody>\n",
       "    <tr>\n",
       "      <th>0</th>\n",
       "      <td>as1</td>\n",
       "      <td>3.467131</td>\n",
       "    </tr>\n",
       "    <tr>\n",
       "      <th>1</th>\n",
       "      <td>as10</td>\n",
       "      <td>3.439571</td>\n",
       "    </tr>\n",
       "    <tr>\n",
       "      <th>2</th>\n",
       "      <td>as100</td>\n",
       "      <td>3.609302</td>\n",
       "    </tr>\n",
       "    <tr>\n",
       "      <th>3</th>\n",
       "      <td>as1000</td>\n",
       "      <td>3.556701</td>\n",
       "    </tr>\n",
       "    <tr>\n",
       "      <th>4</th>\n",
       "      <td>as1001</td>\n",
       "      <td>3.585288</td>\n",
       "    </tr>\n",
       "  </tbody>\n",
       "</table>\n",
       "</div>"
      ],
      "text/plain": [
       "  movieId  promedio_raiting\n",
       "0     as1          3.467131\n",
       "1    as10          3.439571\n",
       "2   as100          3.609302\n",
       "3  as1000          3.556701\n",
       "4  as1001          3.585288"
      ]
     },
     "execution_count": 177,
     "metadata": {},
     "output_type": "execute_result"
    }
   ],
   "source": [
    "# Se calcula el promedio del puntaje que asignan los usuario a cada película\n",
    "df_promedio_raiting = df_usuarios.groupby('movieId', as_index=False)['rating'].mean().rename(columns={'rating': 'promedio_raiting'})\n",
    "df_promedio_raiting.head()"
   ]
  },
  {
   "cell_type": "code",
   "execution_count": 178,
   "metadata": {},
   "outputs": [
    {
     "data": {
      "text/plain": [
       "(22998, 15)"
      ]
     },
     "execution_count": 178,
     "metadata": {},
     "output_type": "execute_result"
    }
   ],
   "source": [
    "df_result = df_complet.merge(df_promedio_raiting[['movieId', 'promedio_raiting']], left_on='id', right_on='movieId', how='inner')\n",
    "df_result.shape "
   ]
  },
  {
   "attachments": {},
   "cell_type": "markdown",
   "metadata": {},
   "source": [
    "`* df_result es el dataframe final para ser consumido por la API`"
   ]
  },
  {
   "cell_type": "code",
   "execution_count": 179,
   "metadata": {},
   "outputs": [
    {
     "data": {
      "text/html": [
       "<div>\n",
       "<style scoped>\n",
       "    .dataframe tbody tr th:only-of-type {\n",
       "        vertical-align: middle;\n",
       "    }\n",
       "\n",
       "    .dataframe tbody tr th {\n",
       "        vertical-align: top;\n",
       "    }\n",
       "\n",
       "    .dataframe thead th {\n",
       "        text-align: right;\n",
       "    }\n",
       "</style>\n",
       "<table border=\"1\" class=\"dataframe\">\n",
       "  <thead>\n",
       "    <tr style=\"text-align: right;\">\n",
       "      <th></th>\n",
       "      <th>id</th>\n",
       "      <th>type</th>\n",
       "      <th>title</th>\n",
       "      <th>director</th>\n",
       "      <th>cast</th>\n",
       "      <th>country</th>\n",
       "      <th>date_added</th>\n",
       "      <th>release_year</th>\n",
       "      <th>rating</th>\n",
       "      <th>listed_in</th>\n",
       "      <th>description</th>\n",
       "      <th>duration_int</th>\n",
       "      <th>duration_type</th>\n",
       "      <th>promedio_raiting</th>\n",
       "    </tr>\n",
       "  </thead>\n",
       "  <tbody>\n",
       "    <tr>\n",
       "      <th>0</th>\n",
       "      <td>as1</td>\n",
       "      <td>Movie</td>\n",
       "      <td>The Grand Seduction</td>\n",
       "      <td>Don McKellar</td>\n",
       "      <td>Brendan Gleeson, Taylor Kitsch, Gordon Pinsent</td>\n",
       "      <td>Canada</td>\n",
       "      <td>2021-03-30</td>\n",
       "      <td>2014</td>\n",
       "      <td>G</td>\n",
       "      <td>Comedy, Drama</td>\n",
       "      <td>A small fishing village must procure a local d...</td>\n",
       "      <td>113</td>\n",
       "      <td>min</td>\n",
       "      <td>3.467131</td>\n",
       "    </tr>\n",
       "    <tr>\n",
       "      <th>1</th>\n",
       "      <td>as2</td>\n",
       "      <td>Movie</td>\n",
       "      <td>Take Care Good Night</td>\n",
       "      <td>Girish Joshi</td>\n",
       "      <td>Mahesh Manjrekar, Abhay Mahajan, Sachin Khedekar</td>\n",
       "      <td>India</td>\n",
       "      <td>2021-03-30</td>\n",
       "      <td>2018</td>\n",
       "      <td>13+</td>\n",
       "      <td>Drama, International</td>\n",
       "      <td>A Metro Family decides to fight a Cyber Crimin...</td>\n",
       "      <td>110</td>\n",
       "      <td>min</td>\n",
       "      <td>3.548682</td>\n",
       "    </tr>\n",
       "    <tr>\n",
       "      <th>2</th>\n",
       "      <td>as3</td>\n",
       "      <td>Movie</td>\n",
       "      <td>Secrets of Deception</td>\n",
       "      <td>Josh Webber</td>\n",
       "      <td>Tom Sizemore, Lorenzo Lamas, Robert LaSardo, R...</td>\n",
       "      <td>United States</td>\n",
       "      <td>2021-03-30</td>\n",
       "      <td>2017</td>\n",
       "      <td>G</td>\n",
       "      <td>Action, Drama, Suspense</td>\n",
       "      <td>After a man discovers his wife is cheating on ...</td>\n",
       "      <td>74</td>\n",
       "      <td>min</td>\n",
       "      <td>3.500000</td>\n",
       "    </tr>\n",
       "    <tr>\n",
       "      <th>3</th>\n",
       "      <td>as4</td>\n",
       "      <td>Movie</td>\n",
       "      <td>Pink: Staying True</td>\n",
       "      <td>Sonia Anderson</td>\n",
       "      <td>Interviews with: Pink, Adele, Beyoncé, Britney...</td>\n",
       "      <td>United States</td>\n",
       "      <td>2021-03-30</td>\n",
       "      <td>2014</td>\n",
       "      <td>G</td>\n",
       "      <td>Documentary</td>\n",
       "      <td>Pink breaks the mold once again, bringing her ...</td>\n",
       "      <td>69</td>\n",
       "      <td>min</td>\n",
       "      <td>3.538055</td>\n",
       "    </tr>\n",
       "    <tr>\n",
       "      <th>4</th>\n",
       "      <td>as5</td>\n",
       "      <td>Movie</td>\n",
       "      <td>Monster Maker</td>\n",
       "      <td>Giles Foster</td>\n",
       "      <td>Harry Dean Stanton, Kieran O'Brien, George Cos...</td>\n",
       "      <td>United Kingdom</td>\n",
       "      <td>2021-03-30</td>\n",
       "      <td>1989</td>\n",
       "      <td>G</td>\n",
       "      <td>Drama, Fantasy</td>\n",
       "      <td>Teenage Matt Banting wants to work with a famo...</td>\n",
       "      <td>45</td>\n",
       "      <td>min</td>\n",
       "      <td>3.478992</td>\n",
       "    </tr>\n",
       "  </tbody>\n",
       "</table>\n",
       "</div>"
      ],
      "text/plain": [
       "    id   type                 title        director  \\\n",
       "0  as1  Movie   The Grand Seduction    Don McKellar   \n",
       "1  as2  Movie  Take Care Good Night    Girish Joshi   \n",
       "2  as3  Movie  Secrets of Deception     Josh Webber   \n",
       "3  as4  Movie    Pink: Staying True  Sonia Anderson   \n",
       "4  as5  Movie         Monster Maker    Giles Foster   \n",
       "\n",
       "                                                cast         country  \\\n",
       "0     Brendan Gleeson, Taylor Kitsch, Gordon Pinsent          Canada   \n",
       "1   Mahesh Manjrekar, Abhay Mahajan, Sachin Khedekar           India   \n",
       "2  Tom Sizemore, Lorenzo Lamas, Robert LaSardo, R...   United States   \n",
       "3  Interviews with: Pink, Adele, Beyoncé, Britney...   United States   \n",
       "4  Harry Dean Stanton, Kieran O'Brien, George Cos...  United Kingdom   \n",
       "\n",
       "  date_added  release_year rating                listed_in  \\\n",
       "0 2021-03-30          2014      G            Comedy, Drama   \n",
       "1 2021-03-30          2018    13+     Drama, International   \n",
       "2 2021-03-30          2017      G  Action, Drama, Suspense   \n",
       "3 2021-03-30          2014      G              Documentary   \n",
       "4 2021-03-30          1989      G           Drama, Fantasy   \n",
       "\n",
       "                                         description  duration_int  \\\n",
       "0  A small fishing village must procure a local d...           113   \n",
       "1  A Metro Family decides to fight a Cyber Crimin...           110   \n",
       "2  After a man discovers his wife is cheating on ...            74   \n",
       "3  Pink breaks the mold once again, bringing her ...            69   \n",
       "4  Teenage Matt Banting wants to work with a famo...            45   \n",
       "\n",
       "  duration_type  promedio_raiting  \n",
       "0           min          3.467131  \n",
       "1           min          3.548682  \n",
       "2           min          3.500000  \n",
       "3           min          3.538055  \n",
       "4           min          3.478992  "
      ]
     },
     "execution_count": 179,
     "metadata": {},
     "output_type": "execute_result"
    }
   ],
   "source": [
    "df_result = df_result.drop(columns=[\"movieId\"])\n",
    "df_result.head()\n"
   ]
  },
  {
   "cell_type": "code",
   "execution_count": 180,
   "metadata": {},
   "outputs": [],
   "source": [
    "#Se exporta a un archivo .CSV para consumo de la API\n",
    "df_result.to_csv(\"df_API.csv\",index = False)"
   ]
  },
  {
   "attachments": {},
   "cell_type": "markdown",
   "metadata": {},
   "source": [
    "-----------------------------------------------------------------------------------------------------------------------"
   ]
  },
  {
   "attachments": {},
   "cell_type": "markdown",
   "metadata": {},
   "source": [
    "CONSTRUCCION DEL DATAFRAME PARA ALIMENTAR EL MODELO DE SISTEMA DE RECOMENDACION DE MACHINE LEARNING:"
   ]
  },
  {
   "cell_type": "code",
   "execution_count": 181,
   "metadata": {},
   "outputs": [
    {
     "data": {
      "text/html": [
       "<div>\n",
       "<style scoped>\n",
       "    .dataframe tbody tr th:only-of-type {\n",
       "        vertical-align: middle;\n",
       "    }\n",
       "\n",
       "    .dataframe tbody tr th {\n",
       "        vertical-align: top;\n",
       "    }\n",
       "\n",
       "    .dataframe thead th {\n",
       "        text-align: right;\n",
       "    }\n",
       "</style>\n",
       "<table border=\"1\" class=\"dataframe\">\n",
       "  <thead>\n",
       "    <tr style=\"text-align: right;\">\n",
       "      <th></th>\n",
       "      <th>userId</th>\n",
       "      <th>rating</th>\n",
       "      <th>timestamp</th>\n",
       "      <th>movieId</th>\n",
       "    </tr>\n",
       "  </thead>\n",
       "  <tbody>\n",
       "    <tr>\n",
       "      <th>0</th>\n",
       "      <td>1</td>\n",
       "      <td>1.0</td>\n",
       "      <td>1425941529</td>\n",
       "      <td>as680</td>\n",
       "    </tr>\n",
       "    <tr>\n",
       "      <th>1</th>\n",
       "      <td>1</td>\n",
       "      <td>4.5</td>\n",
       "      <td>1425942435</td>\n",
       "      <td>ns2186</td>\n",
       "    </tr>\n",
       "    <tr>\n",
       "      <th>2</th>\n",
       "      <td>1</td>\n",
       "      <td>5.0</td>\n",
       "      <td>1425941523</td>\n",
       "      <td>hs2381</td>\n",
       "    </tr>\n",
       "    <tr>\n",
       "      <th>3</th>\n",
       "      <td>1</td>\n",
       "      <td>5.0</td>\n",
       "      <td>1425941546</td>\n",
       "      <td>ns3663</td>\n",
       "    </tr>\n",
       "    <tr>\n",
       "      <th>4</th>\n",
       "      <td>1</td>\n",
       "      <td>5.0</td>\n",
       "      <td>1425941556</td>\n",
       "      <td>as9500</td>\n",
       "    </tr>\n",
       "  </tbody>\n",
       "</table>\n",
       "</div>"
      ],
      "text/plain": [
       "   userId  rating   timestamp movieId\n",
       "0       1     1.0  1425941529   as680\n",
       "1       1     4.5  1425942435  ns2186\n",
       "2       1     5.0  1425941523  hs2381\n",
       "3       1     5.0  1425941546  ns3663\n",
       "4       1     5.0  1425941556  as9500"
      ]
     },
     "execution_count": 181,
     "metadata": {},
     "output_type": "execute_result"
    }
   ],
   "source": [
    "df_usuarios.head()"
   ]
  },
  {
   "cell_type": "code",
   "execution_count": 182,
   "metadata": {},
   "outputs": [
    {
     "data": {
      "text/plain": [
       "(11024165, 4)"
      ]
     },
     "execution_count": 182,
     "metadata": {},
     "output_type": "execute_result"
    }
   ],
   "source": [
    "df_usuarios.shape"
   ]
  },
  {
   "cell_type": "code",
   "execution_count": 183,
   "metadata": {},
   "outputs": [
    {
     "data": {
      "text/html": [
       "<div>\n",
       "<style scoped>\n",
       "    .dataframe tbody tr th:only-of-type {\n",
       "        vertical-align: middle;\n",
       "    }\n",
       "\n",
       "    .dataframe tbody tr th {\n",
       "        vertical-align: top;\n",
       "    }\n",
       "\n",
       "    .dataframe thead th {\n",
       "        text-align: right;\n",
       "    }\n",
       "</style>\n",
       "<table border=\"1\" class=\"dataframe\">\n",
       "  <thead>\n",
       "    <tr style=\"text-align: right;\">\n",
       "      <th></th>\n",
       "      <th>userId</th>\n",
       "      <th>rating</th>\n",
       "      <th>movieId</th>\n",
       "    </tr>\n",
       "  </thead>\n",
       "  <tbody>\n",
       "    <tr>\n",
       "      <th>0</th>\n",
       "      <td>1</td>\n",
       "      <td>1.0</td>\n",
       "      <td>as680</td>\n",
       "    </tr>\n",
       "    <tr>\n",
       "      <th>1</th>\n",
       "      <td>1</td>\n",
       "      <td>4.5</td>\n",
       "      <td>ns2186</td>\n",
       "    </tr>\n",
       "    <tr>\n",
       "      <th>2</th>\n",
       "      <td>1</td>\n",
       "      <td>5.0</td>\n",
       "      <td>hs2381</td>\n",
       "    </tr>\n",
       "    <tr>\n",
       "      <th>3</th>\n",
       "      <td>1</td>\n",
       "      <td>5.0</td>\n",
       "      <td>ns3663</td>\n",
       "    </tr>\n",
       "    <tr>\n",
       "      <th>4</th>\n",
       "      <td>1</td>\n",
       "      <td>5.0</td>\n",
       "      <td>as9500</td>\n",
       "    </tr>\n",
       "  </tbody>\n",
       "</table>\n",
       "</div>"
      ],
      "text/plain": [
       "   userId  rating movieId\n",
       "0       1     1.0   as680\n",
       "1       1     4.5  ns2186\n",
       "2       1     5.0  hs2381\n",
       "3       1     5.0  ns3663\n",
       "4       1     5.0  as9500"
      ]
     },
     "execution_count": 183,
     "metadata": {},
     "output_type": "execute_result"
    }
   ],
   "source": [
    "df_usuarios = df_usuarios.drop(columns= [\"timestamp\"])\n",
    "df_usuarios.head()"
   ]
  },
  {
   "cell_type": "code",
   "execution_count": 184,
   "metadata": {},
   "outputs": [
    {
     "data": {
      "text/html": [
       "<div>\n",
       "<style scoped>\n",
       "    .dataframe tbody tr th:only-of-type {\n",
       "        vertical-align: middle;\n",
       "    }\n",
       "\n",
       "    .dataframe tbody tr th {\n",
       "        vertical-align: top;\n",
       "    }\n",
       "\n",
       "    .dataframe thead th {\n",
       "        text-align: right;\n",
       "    }\n",
       "</style>\n",
       "<table border=\"1\" class=\"dataframe\">\n",
       "  <thead>\n",
       "    <tr style=\"text-align: right;\">\n",
       "      <th></th>\n",
       "      <th>userid</th>\n",
       "      <th>rating</th>\n",
       "      <th>movieid</th>\n",
       "    </tr>\n",
       "  </thead>\n",
       "  <tbody>\n",
       "    <tr>\n",
       "      <th>0</th>\n",
       "      <td>1</td>\n",
       "      <td>1.0</td>\n",
       "      <td>as680</td>\n",
       "    </tr>\n",
       "    <tr>\n",
       "      <th>1</th>\n",
       "      <td>1</td>\n",
       "      <td>4.5</td>\n",
       "      <td>ns2186</td>\n",
       "    </tr>\n",
       "    <tr>\n",
       "      <th>2</th>\n",
       "      <td>1</td>\n",
       "      <td>5.0</td>\n",
       "      <td>hs2381</td>\n",
       "    </tr>\n",
       "    <tr>\n",
       "      <th>3</th>\n",
       "      <td>1</td>\n",
       "      <td>5.0</td>\n",
       "      <td>ns3663</td>\n",
       "    </tr>\n",
       "    <tr>\n",
       "      <th>4</th>\n",
       "      <td>1</td>\n",
       "      <td>5.0</td>\n",
       "      <td>as9500</td>\n",
       "    </tr>\n",
       "  </tbody>\n",
       "</table>\n",
       "</div>"
      ],
      "text/plain": [
       "   userid  rating movieid\n",
       "0       1     1.0   as680\n",
       "1       1     4.5  ns2186\n",
       "2       1     5.0  hs2381\n",
       "3       1     5.0  ns3663\n",
       "4       1     5.0  as9500"
      ]
     },
     "execution_count": 184,
     "metadata": {},
     "output_type": "execute_result"
    }
   ],
   "source": [
    "# poner nombre decolumnas en ´minúscula\n",
    "df_usuarios = df_usuarios.rename(columns={\"userId\":\"userid\",\"movieId\":\"movieid\"})\n",
    "df_usuarios.head()"
   ]
  },
  {
   "cell_type": "code",
   "execution_count": 185,
   "metadata": {},
   "outputs": [],
   "source": [
    "# Inner join para agregar el nombre de las películas al dataframe\n",
    "df_usuarios = pd.merge(df_usuarios, df_result[[\"id\",'title']], how='inner', left_on='movieid', right_on='id')"
   ]
  },
  {
   "cell_type": "code",
   "execution_count": 186,
   "metadata": {},
   "outputs": [
    {
     "data": {
      "text/html": [
       "<div>\n",
       "<style scoped>\n",
       "    .dataframe tbody tr th:only-of-type {\n",
       "        vertical-align: middle;\n",
       "    }\n",
       "\n",
       "    .dataframe tbody tr th {\n",
       "        vertical-align: top;\n",
       "    }\n",
       "\n",
       "    .dataframe thead th {\n",
       "        text-align: right;\n",
       "    }\n",
       "</style>\n",
       "<table border=\"1\" class=\"dataframe\">\n",
       "  <thead>\n",
       "    <tr style=\"text-align: right;\">\n",
       "      <th></th>\n",
       "      <th>userid</th>\n",
       "      <th>rating</th>\n",
       "      <th>movieid</th>\n",
       "      <th>title</th>\n",
       "    </tr>\n",
       "  </thead>\n",
       "  <tbody>\n",
       "    <tr>\n",
       "      <th>0</th>\n",
       "      <td>1</td>\n",
       "      <td>1.0</td>\n",
       "      <td>as680</td>\n",
       "      <td>The English Civil War</td>\n",
       "    </tr>\n",
       "    <tr>\n",
       "      <th>1</th>\n",
       "      <td>583</td>\n",
       "      <td>4.5</td>\n",
       "      <td>as680</td>\n",
       "      <td>The English Civil War</td>\n",
       "    </tr>\n",
       "    <tr>\n",
       "      <th>2</th>\n",
       "      <td>765</td>\n",
       "      <td>5.0</td>\n",
       "      <td>as680</td>\n",
       "      <td>The English Civil War</td>\n",
       "    </tr>\n",
       "    <tr>\n",
       "      <th>3</th>\n",
       "      <td>2116</td>\n",
       "      <td>3.0</td>\n",
       "      <td>as680</td>\n",
       "      <td>The English Civil War</td>\n",
       "    </tr>\n",
       "    <tr>\n",
       "      <th>4</th>\n",
       "      <td>2143</td>\n",
       "      <td>3.0</td>\n",
       "      <td>as680</td>\n",
       "      <td>The English Civil War</td>\n",
       "    </tr>\n",
       "    <tr>\n",
       "      <th>...</th>\n",
       "      <td>...</td>\n",
       "      <td>...</td>\n",
       "      <td>...</td>\n",
       "      <td>...</td>\n",
       "    </tr>\n",
       "    <tr>\n",
       "      <th>11024160</th>\n",
       "      <td>123652</td>\n",
       "      <td>3.0</td>\n",
       "      <td>ns720</td>\n",
       "      <td>Power Rangers Dino Fury</td>\n",
       "    </tr>\n",
       "    <tr>\n",
       "      <th>11024161</th>\n",
       "      <td>123831</td>\n",
       "      <td>3.5</td>\n",
       "      <td>ns720</td>\n",
       "      <td>Power Rangers Dino Fury</td>\n",
       "    </tr>\n",
       "    <tr>\n",
       "      <th>11024162</th>\n",
       "      <td>123886</td>\n",
       "      <td>3.5</td>\n",
       "      <td>ns720</td>\n",
       "      <td>Power Rangers Dino Fury</td>\n",
       "    </tr>\n",
       "    <tr>\n",
       "      <th>11024163</th>\n",
       "      <td>123923</td>\n",
       "      <td>3.5</td>\n",
       "      <td>ns720</td>\n",
       "      <td>Power Rangers Dino Fury</td>\n",
       "    </tr>\n",
       "    <tr>\n",
       "      <th>11024164</th>\n",
       "      <td>124006</td>\n",
       "      <td>3.0</td>\n",
       "      <td>ns720</td>\n",
       "      <td>Power Rangers Dino Fury</td>\n",
       "    </tr>\n",
       "  </tbody>\n",
       "</table>\n",
       "<p>11024165 rows × 4 columns</p>\n",
       "</div>"
      ],
      "text/plain": [
       "          userid  rating movieid                    title\n",
       "0              1     1.0   as680    The English Civil War\n",
       "1            583     4.5   as680    The English Civil War\n",
       "2            765     5.0   as680    The English Civil War\n",
       "3           2116     3.0   as680    The English Civil War\n",
       "4           2143     3.0   as680    The English Civil War\n",
       "...          ...     ...     ...                      ...\n",
       "11024160  123652     3.0   ns720  Power Rangers Dino Fury\n",
       "11024161  123831     3.5   ns720  Power Rangers Dino Fury\n",
       "11024162  123886     3.5   ns720  Power Rangers Dino Fury\n",
       "11024163  123923     3.5   ns720  Power Rangers Dino Fury\n",
       "11024164  124006     3.0   ns720  Power Rangers Dino Fury\n",
       "\n",
       "[11024165 rows x 4 columns]"
      ]
     },
     "execution_count": 186,
     "metadata": {},
     "output_type": "execute_result"
    }
   ],
   "source": [
    "df_usuarios.drop(columns=[\"id\"],inplace = True)\n",
    "df_usuarios"
   ]
  },
  {
   "cell_type": "code",
   "execution_count": 187,
   "metadata": {},
   "outputs": [
    {
     "data": {
      "text/plain": [
       "False    10995634\n",
       "True        28531\n",
       "dtype: int64"
      ]
     },
     "execution_count": 187,
     "metadata": {},
     "output_type": "execute_result"
    }
   ],
   "source": [
    "df_usuarios.duplicated().value_counts()"
   ]
  },
  {
   "cell_type": "code",
   "execution_count": 188,
   "metadata": {},
   "outputs": [],
   "source": [
    "df_usuarios.drop_duplicates(inplace=True)"
   ]
  },
  {
   "cell_type": "code",
   "execution_count": 189,
   "metadata": {},
   "outputs": [
    {
     "data": {
      "text/plain": [
       "False    10995634\n",
       "dtype: int64"
      ]
     },
     "execution_count": 189,
     "metadata": {},
     "output_type": "execute_result"
    }
   ],
   "source": [
    "df_usuarios.duplicated().value_counts()"
   ]
  },
  {
   "cell_type": "code",
   "execution_count": 190,
   "metadata": {},
   "outputs": [],
   "source": [
    "# Se exporta a un archivo .CSV para consumo del modelo de Sistema de Recomendación de ML:\n",
    "df_usuarios.to_csv(\"df_ML.csv\",index = False)"
   ]
  }
 ],
 "metadata": {
  "kernelspec": {
   "display_name": "Python 3",
   "language": "python",
   "name": "python3"
  },
  "language_info": {
   "codemirror_mode": {
    "name": "ipython",
    "version": 3
   },
   "file_extension": ".py",
   "mimetype": "text/x-python",
   "name": "python",
   "nbconvert_exporter": "python",
   "pygments_lexer": "ipython3",
   "version": "3.10.9"
  },
  "orig_nbformat": 4
 },
 "nbformat": 4,
 "nbformat_minor": 2
}
